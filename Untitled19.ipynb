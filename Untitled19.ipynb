{
  "nbformat": 4,
  "nbformat_minor": 0,
  "metadata": {
    "colab": {
      "private_outputs": true,
      "provenance": []
    },
    "kernelspec": {
      "name": "python3",
      "display_name": "Python 3"
    },
    "language_info": {
      "name": "python"
    }
  },
  "cells": [
    {
      "cell_type": "code",
      "execution_count": null,
      "metadata": {
        "id": "KT5t3Ishpgj0"
      },
      "outputs": [],
      "source": []
    },
    {
      "cell_type": "code",
      "source": [],
      "metadata": {
        "id": "D3GdUaAlphgB"
      },
      "execution_count": null,
      "outputs": []
    },
    {
      "cell_type": "code",
      "source": [
        "from pyspark.sql import SparkSession\n",
        "from pyspark.sql.functions import col, abs, regexp_replace, udf\n",
        "from pyspark.sql.types import StringType\n",
        "\n",
        "# Initialize Spark session\n",
        "spark = SparkSession.builder.appName(\"NumberCategorization\").getOrCreate()\n",
        "\n",
        "# Read CSV file\n",
        "data_path = \"/content/Number_Based_Discrepancies_Fixed.csv\"  # Replace with actual file path\n",
        "df = spark.read.csv(data_path, header=True, inferSchema=False)  # Read everything as string to preserve formatting\n",
        "\n",
        "# Preserve original values before transformation\n",
        "df = df.withColumn(\"Original_Source\", col(\"Source\"))\n",
        "df = df.withColumn(\"Original_Destination\", col(\"Destination\"))\n",
        "\n",
        "# Remove currency symbols and commas, then cast to double\n",
        "currency_symbols = \"$€£¥₹₩₽₦₺₨؋৳₴₲₪₵₡₫₭₮₯₰₱₲₳₤₶₸₷₠₣₧₾\"  # Extended list of currency symbols\n",
        "df = df.withColumn(\"Source\", regexp_replace(col(\"Source\"), f\"[{currency_symbols},]\", \"\").cast(\"double\"))\n",
        "df = df.withColumn(\"Destination\", regexp_replace(col(\"Destination\"), f\"[{currency_symbols},]\", \"\").cast(\"double\"))\n",
        "\n",
        "# Compute absolute difference\n",
        "df = df.withColumn(\"Difference\", abs(col(\"Source\") - col(\"Destination\")))\n",
        "\n",
        "# Define classification function\n",
        "def classify_discrepancy(original_source, original_dest, source, dest, diff):\n",
        "    import re  # Ensure regex module is available inside UDF\n",
        "\n",
        "    # Check if removing leading zeros changes the value\n",
        "    if original_source.lstrip(\"0\") != original_source or original_dest.lstrip(\"0\") != original_dest:\n",
        "        return \"Leading Zero Issue\"\n",
        "    # Check for decimal precision difference\n",
        "    if original_source != original_dest:\n",
        "        return \"Decimal Precision Difference\"\n",
        "    if \",\" in original_source or \",\" in original_dest:\n",
        "        return \"Thousands Separator Difference\"\n",
        "    if re.match(r\"^[0-9]+\\.[0-9]+E[0-9]+$\", original_source) or re.match(r\"^[0-9]+\\.[0-9]+E[0-9]+$\", original_dest):\n",
        "        return \"Scientific Notation Difference\"\n",
        "    # Check for currency symbol difference only if both have the same currency and difference is < 1\n",
        "    if diff < 1:\n",
        "        return \"Currency Symbol Difference\"\n",
        "    return \"Other\"\n",
        "\n",
        "# Register function as UDF\n",
        "classify_udf = udf(classify_discrepancy, StringType())\n",
        "\n",
        "# Apply UDF to classify discrepancies\n",
        "df = df.withColumn(\"Category\", classify_udf(col(\"Original_Source\"), col(\"Original_Destination\"), col(\"Source\"), col(\"Destination\"), col(\"Difference\")))\n",
        "\n",
        "# Show results\n",
        "df.show()\n"
      ],
      "metadata": {
        "id": "EY1gpU_Gphlp"
      },
      "execution_count": null,
      "outputs": []
    },
    {
      "cell_type": "code",
      "source": [
        "df.show(7000)"
      ],
      "metadata": {
        "id": "Z6MKa5pqphox"
      },
      "execution_count": null,
      "outputs": []
    },
    {
      "cell_type": "code",
      "source": [],
      "metadata": {
        "id": "ii6iLQQophr6"
      },
      "execution_count": null,
      "outputs": []
    },
    {
      "cell_type": "code",
      "source": [
        "from pyspark.sql import SparkSession\n",
        "from pyspark.sql.functions import col, abs, regexp_replace, udf\n",
        "from pyspark.sql.types import StringType\n",
        "\n",
        "# Initialize Spark session\n",
        "spark = SparkSession.builder.appName(\"NumberCategorization\").getOrCreate()\n",
        "\n",
        "# Read CSV file\n",
        "data_path = \"/content/Number_Based_Discrepancies_Fixed.csv\"  # Replace with actual file path\n",
        "df = spark.read.csv(data_path, header=True, inferSchema=False)  # Read everything as string to preserve formatting\n",
        "\n",
        "# Preserve original values before transformation\n",
        "df = df.withColumn(\"Original_Source\", col(\"Source\"))\n",
        "df = df.withColumn(\"Original_Destination\", col(\"Destination\"))\n",
        "\n",
        "# Define classification function\n",
        "def classify_discrepancy(original_source, original_dest):\n",
        "    import re  # Ensure regex module is available inside UDF\n",
        "\n",
        "    # Check if removing leading zeros changes the value\n",
        "    if original_source.lstrip('0') != original_source or original_dest.lstrip('0') != original_dest:\n",
        "        return \"Leading Zero Issue\"\n",
        "    # Check for decimal precision difference\n",
        "    if original_source != original_dest:\n",
        "        return \"Decimal Precision Difference\"\n",
        "    if \",\" in original_source or \",\" in original_dest:\n",
        "        return \"Thousands Separator Difference\"\n",
        "    if re.match(r\"^[0-9]+\\.[0-9]+E[0-9]+$\", original_source) or re.match(r\"^[0-9]+\\.[0-9]+E[0-9]+$\", original_dest):\n",
        "        return \"Scientific Notation Difference\"\n",
        "    # Add additional checks as necessary\n",
        "    return \"Other\"\n",
        "\n",
        "# Register function as UDF\n",
        "classify_udf = udf(classify_discrepancy, StringType())\n",
        "\n",
        "# Apply UDF to classify discrepancies before converting to numeric types\n",
        "df = df.withColumn(\"Category\", classify_udf(col(\"Original_Source\"), col(\"Original_Destination\")))\n",
        "\n",
        "# Remove currency symbols and commas, then cast to double for numeric operations\n",
        "currency_symbols = \"$€£¥₹₩₽₦₺₨؋৳₴₲₪₵₡₫₭₮₯₰₱₲₳₤₶₸₷₠₣₧₾\"  # Extended list of currency symbols\n",
        "df = df.withColumn(\"Source\", regexp_replace(col(\"Original_Source\"), f\"[{currency_symbols},]\", \"\").cast(\"double\"))\n",
        "df = df.withColumn(\"Destination\", regexp_replace(col(\"Original_Destination\"), f\"[{currency_symbols},]\", \"\").cast(\"double\"))\n",
        "\n",
        "# Compute absolute difference\n",
        "df = df.withColumn(\"Difference\", abs(col(\"Source\") - col(\"Destination\")))\n",
        "\n",
        "# Show results\n",
        "df.show()\n"
      ],
      "metadata": {
        "id": "hPZZ7z1AphvC"
      },
      "execution_count": null,
      "outputs": []
    },
    {
      "cell_type": "code",
      "source": [
        "df.show(7000)"
      ],
      "metadata": {
        "id": "QUioHPOAphyT"
      },
      "execution_count": null,
      "outputs": []
    },
    {
      "cell_type": "code",
      "source": [],
      "metadata": {
        "id": "9O1Z0ECtph1Z"
      },
      "execution_count": null,
      "outputs": []
    },
    {
      "cell_type": "code",
      "source": [],
      "metadata": {
        "id": "UQPmcqutph4k"
      },
      "execution_count": null,
      "outputs": []
    },
    {
      "cell_type": "code",
      "source": [],
      "metadata": {
        "id": "IU570vSHph7_"
      },
      "execution_count": null,
      "outputs": []
    },
    {
      "cell_type": "code",
      "source": [],
      "metadata": {
        "id": "frD6ybq5ph-s"
      },
      "execution_count": null,
      "outputs": []
    },
    {
      "cell_type": "code",
      "source": [
        "def leading_zero_check(value1, value2):\n",
        "    stripped_value1 = value1.lstrip('0') or '0'  # Ensures empty strings are considered as '0'\n",
        "    stripped_value2 = value2.lstrip('0') or '0'  # Ensures empty strings are considered as '0'\n",
        "    return are_equal\n",
        "\n",
        "# Example usage:\n",
        "value1 = \"123\"\n",
        "value2 = \"123\"\n",
        "are_equal = leading_zero_check(value1, value2)\n",
        "print(\"Are equal after removing leading zeros:\", are_equal)\n",
        "print(\"Had leading zeros:\", had_leading_zeros)\n"
      ],
      "metadata": {
        "id": "zQzhiOUGpiBw"
      },
      "execution_count": null,
      "outputs": []
    },
    {
      "cell_type": "code",
      "source": [
        "# Define the function as provided\n",
        "def negative_check(value1, value2):\n",
        "    try:\n",
        "        # Convert values to float and compare their absolute values\n",
        "        num1 = float(value1)\n",
        "        num2 = float(value2)\n",
        "        print(abs(num1), abs(num2))\n",
        "        return abs(num1) == abs(num2)\n",
        "    except ValueError:\n",
        "        # Return False if there's an error converting to float (e.g., if the input is not numeric)\n",
        "        return False\n",
        "\n",
        "# Test cases to validate the function\n",
        "test_cases = [\n",
        "    (\"-123\", \"123\"),  # True: both numbers are the same magnitude, opposite signs\n",
        "    (\"456\", \"-456\"),  # True: both numbers are the same magnitude, opposite signs\n",
        "    (\"789\", \"789\"),   # True: both numbers are the same, same sign\n",
        "    (\"123.5\", \"-123.5\"),  # True: same magnitude, opposite signs\n",
        "    (\"100\", \"200\"),   # False: different magnitudes\n",
        "    (\"abc\", \"123\"),   # False: non-numeric input\n",
        "    (\"-100\", \"-100\"), # True: same numbers, same negative sign\n",
        "    (\"\", \"\"),         # False: empty strings\n",
        "    (\"0\", \"-0\"),      # True: zero is the same regardless of sign\n",
        "    (\"0.00001\", \"-0.00001\")  # True: very small numbers, opposite signs\n",
        "]\n",
        "\n",
        "# Running the test cases\n",
        "for value1, value2 in test_cases:\n",
        "    result = negative_check(value1, value2)\n",
        "    print(f\"negative_check({value1}, {value2}) = {result}\")\n",
        "\n"
      ],
      "metadata": {
        "id": "GcSXSY9mu8VE"
      },
      "execution_count": null,
      "outputs": []
    },
    {
      "cell_type": "code",
      "source": [],
      "metadata": {
        "id": "X-_I0Hsfu8X8"
      },
      "execution_count": null,
      "outputs": []
    },
    {
      "cell_type": "code",
      "source": [],
      "metadata": {
        "id": "sdomDqAQu8a0"
      },
      "execution_count": null,
      "outputs": []
    },
    {
      "cell_type": "code",
      "source": [
        "num1,num2=\"-123\", \"123\"\n",
        "num1 = float(value1)\n",
        "num2 = float(value2)\n",
        "abs(num1)"
      ],
      "metadata": {
        "id": "D99n0nEAu8d7"
      },
      "execution_count": null,
      "outputs": []
    },
    {
      "cell_type": "code",
      "source": [
        "abs(-123)"
      ],
      "metadata": {
        "id": "qzgmMfoku8gy"
      },
      "execution_count": null,
      "outputs": []
    },
    {
      "cell_type": "code",
      "source": [
        "# An integer\n",
        "var = -94\n",
        "print('Absolute value of integer is:', abs(var))\n"
      ],
      "metadata": {
        "id": "VRQaj6Hju8j9"
      },
      "execution_count": null,
      "outputs": []
    },
    {
      "cell_type": "code",
      "source": [],
      "metadata": {
        "id": "g8UAXvhCu8p1"
      },
      "execution_count": null,
      "outputs": []
    },
    {
      "cell_type": "code",
      "source": [],
      "metadata": {
        "id": "3gHY9ElZu8s9"
      },
      "execution_count": null,
      "outputs": []
    },
    {
      "cell_type": "code",
      "source": [],
      "metadata": {
        "id": "LeiANtDRu8vo"
      },
      "execution_count": null,
      "outputs": []
    },
    {
      "cell_type": "code",
      "source": [],
      "metadata": {
        "id": "1wBOnSvcu8yp"
      },
      "execution_count": null,
      "outputs": []
    },
    {
      "cell_type": "code",
      "source": [],
      "metadata": {
        "id": "9Tm2InU_u81j"
      },
      "execution_count": null,
      "outputs": []
    }
  ]
}