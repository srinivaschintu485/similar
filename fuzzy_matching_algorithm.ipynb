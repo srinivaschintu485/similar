{
  "cells": [
    {
      "cell_type": "markdown",
      "metadata": {
        "id": "0OowH9c09EaC"
      },
      "source": [
        "# ![image.png](attachment:d02cfc97-baa8-4955-919e-2953cad9d501.png)"
      ]
    },
    {
      "cell_type": "markdown",
      "metadata": {
        "id": "AC8j9A7r9EaE"
      },
      "source": [
        "![image.png](attachment:1f79c007-5587-4999-a03a-e8b746184efe.png)\n",
        "\n",
        "- [Introduction to fuzzy matching](#inro)\n",
        "- [Applications of fuzzy matching](#applications)\n",
        "- [Algorithms used for fuzzy matching](#algo)\n",
        "    - [Levenshtein distance algorithm](#lev)\n",
        "    - [Damerau-Levenshtein distance algorithm](#dlev)\n",
        "    - [Bitmap algorithm](#bitap)\n",
        "    - [n-gram algorithm](#ngram)\n",
        "- [Implementation of fuzzy matching on real data](#real)\n",
        "- [Other algorithms](#others)"
      ]
    },
    {
      "cell_type": "markdown",
      "metadata": {
        "id": "oD1rHGXQ9EaE"
      },
      "source": [
        "<a id = 'intro'></a>"
      ]
    },
    {
      "cell_type": "markdown",
      "metadata": {
        "id": "YpOAke7m9EaE"
      },
      "source": [
        "![image.png](attachment:cec83173-d5cd-4689-8e25-93ab4e5c28fd.png)\n",
        "\n",
        "- Method to find strings which match a pattern approximately.\n",
        "- Identifies the likelihood/probability that two records are true match based on some parameters.\n",
        "\n",
        "![image.png](attachment:10f32fe3-2664-4602-8916-41a2a2f7d3bf.png)"
      ]
    },
    {
      "cell_type": "markdown",
      "metadata": {
        "id": "n_JCZUtN9EaE"
      },
      "source": [
        "<a id = 'applications'></a>"
      ]
    },
    {
      "cell_type": "markdown",
      "metadata": {
        "id": "I9mapQms9EaF"
      },
      "source": [
        "![image.png](attachment:ed8a9766-a832-4c2f-b3ab-9b80de80c4e4.png)\n",
        "\n",
        "- Spell checker\n",
        "- Deduplication of records\n",
        "- Master data management\n",
        "- Plagiarism detection\n",
        "- Bioinformatics and DNA sequencing\n",
        "- Spam filtering\n",
        "- Content search"
      ]
    },
    {
      "cell_type": "markdown",
      "metadata": {
        "id": "oXH7__nB9EaF"
      },
      "source": [
        "<a id = 'algo'></a>"
      ]
    },
    {
      "cell_type": "markdown",
      "metadata": {
        "id": "1kE0YZgJ9EaF"
      },
      "source": [
        "![image.png](attachment:4e03ed85-7d7f-417c-a226-e2a74a4df25f.png)\n",
        "\n",
        "- Edit distance metric - quantifies how dissimilar two strings are by counting the minimum number of operations required to transform one string into the other\n",
        "    - Levenshtein distance\n",
        "    - Damerau–Levenshtein distance\n",
        "- Bitap algorithm - tells whether a given text contains a substring which is \"approximately equal\" (defined in terms of Levenshtein distance) to a given pattern\n",
        "- n-gram - predicts next item in a sequence of text (in form of a Markov model)"
      ]
    },
    {
      "cell_type": "markdown",
      "metadata": {
        "id": "2_7l4HCv9EaF"
      },
      "source": [
        "![image.png](attachment:d3d721d8-6b72-4904-95ea-03497287204e.png)\n",
        "\n",
        "measures the number of edits needed to transform one word into another\n",
        "\n",
        "![image.png](attachment:886c1ed4-1a6f-4c8e-bd8c-049bdf66edb9.png)\n",
        "\n",
        "![image.png](attachment:6060930b-ba2b-40f1-9ceb-093610d91562.png)"
      ]
    },
    {
      "cell_type": "markdown",
      "metadata": {
        "id": "3IVcuHn09EaF"
      },
      "source": [
        "<a id = 'lev'></a>"
      ]
    },
    {
      "cell_type": "markdown",
      "metadata": {
        "id": "lXkjgLnK9EaG"
      },
      "source": [
        "![image.png](attachment:50d382b8-a530-477e-8b9e-156beb647e30.png)\n",
        "\n",
        "Levenshtein distance has the following properties:\n",
        "\n",
        "- It is zero if and only if the strings are equal.\n",
        "- It is at least the difference of the sizes of the two strings.\n",
        "- It is at most the length of the longer string.\n",
        "- Triangle inequality: The Levenshtein distance between two strings is no greater than the sum of their Levenshtein distances from a third string.\n",
        "\n",
        "\n",
        "The Levenshtein distance between two strings a and b is given by $lev_{a,b}(len(a), len(b))$.\n",
        "\n",
        "The Levenshtein distance between two strings 'a' and 'b', $lev_{a,b}(len(a), len(b))$,\n",
        "where $lev_{a,b}(i, j)$ is equal to\n",
        "\n",
        "$$\n",
        "\\begin{array}\n",
        "& max(i, j) {\\quad} if {\\quad} min(i, j)=0 \\\\\n",
        "{\\text{otherwise:}} \\\\\n",
        "\\\\\n",
        "min \\big(lev_{a,b}(i-1, j) + 1, \\\\\n",
        "{\\qquad} lev_{a,b}(i, j-1) + 1,  \\\\\n",
        "{\\qquad} lev_{a,b}(i-1, j-1) + 1_{a_i \\neq b_j} \\big)\n",
        "\\end{array}    \n",
        "$$    \n",
        "where $1_{a_i \\neq b_j}$ is the indicator function,\n",
        "$$\\begin{array}\n",
        "& 1_{a_i \\neq b_j} & = 0, {\\text{when }} a_i = b_j \\\\\n",
        "& = 1, {\\text{otherwise}}\n",
        "\\end{array}$$\n",
        "\n",
        "and $lev_{a,b}(i, j)$ is the distance between the first i characters of 'a' and the first j characters of 'b'."
      ]
    },
    {
      "cell_type": "code",
      "execution_count": 1,
      "metadata": {
        "id": "0rrdei_o9EaG"
      },
      "outputs": [],
      "source": [
        "def levdist(s, t):\n",
        "    '''function to calculate the\n",
        "    Levenshtein distance between\n",
        "    two strings in a recursive way'''\n",
        "\n",
        "    if s == '':\n",
        "        return len(t)\n",
        "    if t == '':\n",
        "        return len(s)\n",
        "    if s[-1] == t[-1]:\n",
        "        cost = 0\n",
        "    else:\n",
        "        cost = 1\n",
        "\n",
        "    dist = min([levdist(s[:-1], t)+1,\n",
        "               levdist(s, t[:-1])+1,\n",
        "               levdist(s[:-1], t[:-1]) + cost])\n",
        "\n",
        "    return dist"
      ]
    },
    {
      "cell_type": "code",
      "execution_count": 2,
      "metadata": {
        "colab": {
          "base_uri": "https://localhost:8080/"
        },
        "id": "hBNWkjkG9EaH",
        "outputId": "a29a393e-96df-4d95-922e-35fc115261b3"
      },
      "outputs": [
        {
          "output_type": "execute_result",
          "data": {
            "text/plain": [
              "3"
            ]
          },
          "metadata": {},
          "execution_count": 2
        }
      ],
      "source": [
        "levdist('irks', 'risk')"
      ]
    },
    {
      "cell_type": "code",
      "execution_count": 3,
      "metadata": {
        "colab": {
          "base_uri": "https://localhost:8080/"
        },
        "id": "6Hua8YnC9EaH",
        "outputId": "db3fa15c-2b4f-4329-b5b1-f7d6cfbe95e9"
      },
      "outputs": [
        {
          "output_type": "stream",
          "name": "stdout",
          "text": [
            "Levenshtein distance between  micrsft  and  microsoft corporation  is: 14\n",
            "time taken to calculate Levenshtein distance between  micrsft  and  microsoft corporation  is: 50.8 s\n"
          ]
        }
      ],
      "source": [
        "import time\n",
        "\n",
        "st = time.time()\n",
        "s1 = 'micrsft'\n",
        "s2 = 'microsoft corporation'\n",
        "print('Levenshtein distance between ',\n",
        "      f'{s1}', ' and ', f'{s2}', ' is:', levdist(s1, s2))\n",
        "et = time.time()\n",
        "print('time taken to calculate Levenshtein distance between ',\n",
        "      f'{s1}', ' and ', f'{s2}', ' is:', round(et-st, 2), 's')"
      ]
    },
    {
      "cell_type": "markdown",
      "metadata": {
        "id": "hU13xFa-9EaH"
      },
      "source": [
        "### This is slow!\n",
        "\n",
        "### Iterative computation using matrix improves the computation time"
      ]
    },
    {
      "cell_type": "code",
      "execution_count": 4,
      "metadata": {
        "id": "2CTXWegu9EaI"
      },
      "outputs": [],
      "source": [
        "def iterative_levdist(s, t):\n",
        "    '''function to calculate the\n",
        "    Levenshtein distance between\n",
        "    two strings in an iterative way'''\n",
        "\n",
        "    rows = len(s)+1\n",
        "    cols = len(t)+1\n",
        "    dist = [[0 for x in range(cols)] for x in range(rows)]\n",
        "\n",
        "    # source prefixes can be transformed into empty strings\n",
        "    # by deletions:\n",
        "    for i in range(1, rows):\n",
        "        dist[i][0] = i\n",
        "\n",
        "    # target prefixes can be created from an empty source string\n",
        "    # by inserting the characters\n",
        "    for i in range(1, cols):\n",
        "        dist[0][i] = i\n",
        "\n",
        "    for col in range(1, cols):\n",
        "        for row in range(1, rows):\n",
        "            if s[row-1] == t[col-1]:\n",
        "                cost = 0\n",
        "            else:\n",
        "                cost = 1\n",
        "            dist[row][col] = min(dist[row-1][col] + 1,      # deletion\n",
        "                                 dist[row][col-1] + 1,      # insertion\n",
        "                                 dist[row-1][col-1] + cost) # substitution\n",
        "\n",
        "\n",
        "    return dist[row][col]"
      ]
    },
    {
      "cell_type": "code",
      "execution_count": 5,
      "metadata": {
        "colab": {
          "base_uri": "https://localhost:8080/"
        },
        "id": "pddeQKWc9EaI",
        "outputId": "cf1c0ebe-bbab-4f2f-b9c7-7c89997bf23c"
      },
      "outputs": [
        {
          "output_type": "execute_result",
          "data": {
            "text/plain": [
              "3"
            ]
          },
          "metadata": {},
          "execution_count": 5
        }
      ],
      "source": [
        "iterative_levdist('irks', 'risk')"
      ]
    },
    {
      "cell_type": "code",
      "execution_count": 6,
      "metadata": {
        "colab": {
          "base_uri": "https://localhost:8080/"
        },
        "id": "WKUot4Wh9EaI",
        "outputId": "f2a13829-3413-4221-f0d2-09461079eebf"
      },
      "outputs": [
        {
          "output_type": "stream",
          "name": "stdout",
          "text": [
            "Levenshtein distance between  micrsft  and  microsoft corporation  is: 14\n",
            "time taken to calculate Levenshtein distance between  micrsft  and  microsoft corporation  is: 0.0 s\n"
          ]
        }
      ],
      "source": [
        "st = time.time()\n",
        "s1 = 'micrsft'\n",
        "s2 = 'microsoft corporation'\n",
        "print('Levenshtein distance between ',\n",
        "      f'{s1}', ' and ', f'{s2}', ' is:', iterative_levdist(s1, s2))\n",
        "et = time.time()\n",
        "print('time taken to calculate Levenshtein distance between ',\n",
        "      f'{s1}', ' and ', f'{s2}', ' is:', round(et-st, 2), 's')"
      ]
    },
    {
      "cell_type": "markdown",
      "metadata": {
        "id": "Cz86Ww5B9EaI"
      },
      "source": [
        "<a id = 'dlev'></a>"
      ]
    },
    {
      "cell_type": "markdown",
      "metadata": {
        "id": "aESdO1r29EaI"
      },
      "source": [
        "### Damerau-Levenshtein Distance works similar to Levenshtein distance"
      ]
    },
    {
      "cell_type": "markdown",
      "metadata": {
        "id": "spcOCSs19EaI"
      },
      "source": [
        "#### To install jellyfish package, pip install jellyfish\n",
        "Refer [here](https://pypi.org/project/jellyfish/) for more information on this package"
      ]
    },
    {
      "cell_type": "code",
      "execution_count": 7,
      "metadata": {
        "colab": {
          "base_uri": "https://localhost:8080/"
        },
        "id": "IplrDKui9EaI",
        "outputId": "a3d52213-175f-4b90-cda2-2bf6e8baa1ce"
      },
      "outputs": [
        {
          "output_type": "stream",
          "name": "stdout",
          "text": [
            "Levenshtein distance is:  3\n",
            "Damerau-Levenshtein distance is:  2\n"
          ]
        }
      ],
      "source": [
        "import jellyfish\n",
        "\n",
        "print('Levenshtein distance is: ', jellyfish.levenshtein_distance('irks', 'risk'))\n",
        "print('Damerau-Levenshtein distance is: ', jellyfish.damerau_levenshtein_distance('irks', 'risk'))"
      ]
    },
    {
      "cell_type": "code",
      "execution_count": 8,
      "metadata": {
        "colab": {
          "base_uri": "https://localhost:8080/"
        },
        "id": "KoCdShuf9EaI",
        "outputId": "2fbbcafd-6f55-4e78-cadc-806babe88d3d"
      },
      "outputs": [
        {
          "output_type": "stream",
          "name": "stdout",
          "text": [
            "Damerau-Levenshtein distance between  micrsft  and  microsoft corporation  is: 14\n",
            "time taken to calculate Damerau-Levenshtein distance between  micrsft  and  microsoft corporation  is: 0.0 s\n"
          ]
        }
      ],
      "source": [
        "st = time.time()\n",
        "s1 = 'micrsft'\n",
        "s2 = 'microsoft corporation'\n",
        "print('Damerau-Levenshtein distance between ',\n",
        "      f'{s1}', ' and ', f'{s2}', ' is:', jellyfish.damerau_levenshtein_distance(s1, s2))\n",
        "et = time.time()\n",
        "print('time taken to calculate Damerau-Levenshtein distance between ',\n",
        "      f'{s1}', ' and ', f'{s2}', ' is:', round(et-st, 2), 's')"
      ]
    },
    {
      "cell_type": "markdown",
      "metadata": {
        "id": "g9gNPNyx9EaI"
      },
      "source": [
        "<a id = 'bitap'></a>"
      ]
    },
    {
      "cell_type": "markdown",
      "metadata": {
        "id": "S0XYJc9i9EaI"
      },
      "source": [
        "![image.png](attachment:d0c7cfbc-f0e6-4a67-9df0-f9a889917d64.png)\n",
        "\n",
        "- also known as the shift-or, shift-and or Baeza-Yates–Gonnet algorithm\n",
        "- states whether a given text contains a substring which is \"approximately equal\" (defined by Levenshtein distance) to a given pattern.\n",
        "\n",
        "\n",
        "**Input:**\n",
        "\n",
        "Text: womenwhocode\n",
        "\n",
        "Pattern: code\n",
        "\n",
        "**Output:**\n",
        "Pattern found at index: 8\n",
        "\n",
        "**Input:**\n",
        "\n",
        "Text: youareawesome\n",
        "\n",
        "Pattern: youareamazing\n",
        "\n",
        "**Output:** No Match"
      ]
    },
    {
      "cell_type": "code",
      "execution_count": 1,
      "metadata": {
        "id": "jp_3ju6v9EaI"
      },
      "outputs": [],
      "source": [
        "import sys\n",
        "\n",
        "def bitap_search(text, pattern):\n",
        "\n",
        "    '''function to do a bit-ap search\n",
        "    using bit array\n",
        "    (this is python implementation of the\n",
        "    code in GeekforGeeks)'''\n",
        "\n",
        "    len_pattern = len(pattern)\n",
        "\n",
        "    #initializing the bit array to complement of 0\n",
        "    bit_array = [~0] * (sys.maxunicode)\n",
        "\n",
        "    # R is a variable, initiliazing it to complement of 1\n",
        "    R = ~1\n",
        "\n",
        "    # taking care of the edge cases\n",
        "    # when the pattern is absent\n",
        "    # or when the pattern is longer than the text\n",
        "    if len_pattern == 0:\n",
        "        return -1\n",
        "\n",
        "    if len_pattern > len(text):\n",
        "        print('Pattern too long!')\n",
        "        return -1\n",
        "\n",
        "\n",
        "    for i in range(len_pattern):\n",
        "        bit_array[ord(pattern[i])] &= ~(1 << i)\n",
        "\n",
        "    for i in range(len(text)):\n",
        "        R |= bit_array[ord(text[i])]\n",
        "        R <<= 1;\n",
        "        if (R & (1 << len_pattern)) == 0:\n",
        "            return i - len_pattern + 1\n",
        "\n",
        "    return -1\n",
        "\n",
        "\n",
        "\n",
        "def findPattern(t, p):\n",
        "    text = list(t);\n",
        "    pattern = list(p);\n",
        "    index = bitap_search(text, pattern);\n",
        "    if index == -1:\n",
        "        print('No Match')\n",
        "    else:\n",
        "        print('Pattern found at index:', index)"
      ]
    },
    {
      "cell_type": "code",
      "execution_count": 2,
      "metadata": {
        "id": "dyvleI_D9EaJ",
        "outputId": "f0c3d27f-8db3-4db0-ab0c-d801ebac6b48",
        "colab": {
          "base_uri": "https://localhost:8080/"
        }
      },
      "outputs": [
        {
          "output_type": "stream",
          "name": "stdout",
          "text": [
            "Pattern found at index: 8\n"
          ]
        }
      ],
      "source": [
        "text = 'womenwhocode'\n",
        "pattern = 'code'\n",
        "\n",
        "findPattern(text, pattern)"
      ]
    },
    {
      "cell_type": "code",
      "execution_count": 3,
      "metadata": {
        "id": "cSedFA4w9EaJ",
        "outputId": "22f09af9-a53d-4220-f1f3-23a992f87724",
        "colab": {
          "base_uri": "https://localhost:8080/"
        }
      },
      "outputs": [
        {
          "output_type": "stream",
          "name": "stdout",
          "text": [
            "No Match\n"
          ]
        }
      ],
      "source": [
        "text = 'youareamazing'\n",
        "pattern = 'youareawesome'\n",
        "\n",
        "findPattern(text, pattern)"
      ]
    },
    {
      "cell_type": "markdown",
      "metadata": {
        "id": "-OVScNH-9EaJ"
      },
      "source": [
        "<a id = 'ngram'></a>"
      ]
    },
    {
      "cell_type": "markdown",
      "metadata": {
        "id": "xKeNw4DS9EaJ"
      },
      "source": [
        "![image.png](attachment:444fed96-f05c-49e8-80b3-06c74af83568.png)\n",
        "\n",
        "- n-gram: set of values generated from a string by pairing sequentially occurring ‘n’ characters/words\n",
        "- goal: compute probability of a sequence of characters/words or sentence\n",
        "- predicts next item in a sequence of text (in form of a Markov model)"
      ]
    },
    {
      "cell_type": "markdown",
      "metadata": {
        "id": "flyXfy-y9EaJ"
      },
      "source": [
        "### PROBABILITY\n",
        "\n",
        "Conditional probability with 2 variables/words:\n",
        "\n",
        "$$ \\large{p(w_1 \\cap w_2) = p(w_1) p(w_2|w_1)}$$\n",
        "\n",
        "Conditional probability with 4 variables/words:\n",
        "\n",
        "$$\\large{p(w_1 \\cap w_2 \\cap w_3 \\cap w_4) = p(w_1) p(w_2|w_1) p(w_3|w_1 \\cap w_2) p(w_4|w_1 \\cap w_2 \\cap w_3) }$$\n",
        "\n",
        "Therefore, joint probability can be calculated using chain rule:\n",
        "\n",
        "$$\\Large{ p(w_1 \\cap w_2 , \\cdots, w_n) = \\prod_{i} p (w_i|w_1 w_2 \\cdots w_{n-1}) }$$\n",
        "\n",
        "### &nbsp;&nbsp;&nbsp; TOO MANY POSSIBLE COMBINATIONS!!\n",
        "\n",
        "\n",
        "![image.png](attachment:921d674b-470e-4c5e-8359-1db40839d2cb.png)\n",
        "\n",
        "### Approximate each component of the product by maximum likelihood estimate"
      ]
    },
    {
      "cell_type": "code",
      "execution_count": 4,
      "metadata": {
        "id": "tYdIIO1y9EaJ"
      },
      "outputs": [],
      "source": [
        "from sklearn.feature_extraction.text import TfidfVectorizer\n",
        "\n",
        "corpus = ['company name is microsoft', 'company the name is Microsoft',\n",
        "          'company name mcrosft', 'the company is Microsft Co',\n",
        "         'company is Microsoft Corporation', 'the company is name microsoft Corp',\n",
        "          'company MCSFT CO name']\n",
        "\n",
        "clean_corpus = ['The company name is Microsoft Corporation']"
      ]
    },
    {
      "cell_type": "code",
      "execution_count": 5,
      "metadata": {
        "id": "Wuit35Nx9EaJ",
        "outputId": "068a2d01-59ce-4e99-bbf4-d74c2da5dc8a",
        "colab": {
          "base_uri": "https://localhost:8080/"
        }
      },
      "outputs": [
        {
          "output_type": "stream",
          "name": "stdout",
          "text": [
            "['co' 'company' 'corp' 'corporation' 'is' 'mcrosft' 'mcsft' 'microsft'\n",
            " 'microsoft' 'name' 'the']\n"
          ]
        }
      ],
      "source": [
        "vect1 = TfidfVectorizer(analyzer='word', ngram_range=(1, 1))\n",
        "x = vect1.fit_transform(corpus)\n",
        "print(vect1.get_feature_names_out())"
      ]
    },
    {
      "cell_type": "code",
      "execution_count": 6,
      "metadata": {
        "id": "eFwU0vDi9EaK",
        "outputId": "dc596392-ddb6-46fa-8e98-34e729efd7b4",
        "colab": {
          "base_uri": "https://localhost:8080/"
        }
      },
      "outputs": [
        {
          "output_type": "stream",
          "name": "stdout",
          "text": [
            "['company is microsft' 'company is microsoft' 'company is name'\n",
            " 'company mcsft co' 'company name is' 'company name mcrosft'\n",
            " 'company the name' 'is microsft co' 'is microsoft corporation'\n",
            " 'is name microsoft' 'mcsft co name' 'name is microsoft'\n",
            " 'name microsoft corp' 'the company is' 'the name is']\n"
          ]
        }
      ],
      "source": [
        "vect2 = TfidfVectorizer(analyzer='word', ngram_range=(3, 3))\n",
        "x = vect2.fit_transform(corpus)\n",
        "\n",
        "print(vect2.get_feature_names_out())"
      ]
    },
    {
      "cell_type": "code",
      "execution_count": 7,
      "metadata": {
        "id": "1tw3OkOH9EaK",
        "outputId": "1cf199dd-f60e-412e-a3a8-482e2497e653",
        "colab": {
          "base_uri": "https://localhost:8080/"
        }
      },
      "outputs": [
        {
          "output_type": "stream",
          "name": "stdout",
          "text": [
            "['co name' 'company is' 'company is microsft' 'company is microsft co'\n",
            " 'company is microsoft' 'company is microsoft corporation'\n",
            " 'company is name' 'company is name microsoft'\n",
            " 'company is name microsoft corp' 'company mcsft' 'company mcsft co'\n",
            " 'company mcsft co name' 'company name' 'company name is'\n",
            " 'company name is microsoft' 'company name mcrosft' 'company the'\n",
            " 'company the name' 'company the name is' 'company the name is microsoft'\n",
            " 'is microsft' 'is microsft co' 'is microsoft' 'is microsoft corporation'\n",
            " 'is name' 'is name microsoft' 'is name microsoft corp' 'mcsft co'\n",
            " 'mcsft co name' 'microsft co' 'microsoft corp' 'microsoft corporation'\n",
            " 'name is' 'name is microsoft' 'name mcrosft' 'name microsoft'\n",
            " 'name microsoft corp' 'the company' 'the company is'\n",
            " 'the company is microsft' 'the company is microsft co'\n",
            " 'the company is name' 'the company is name microsoft' 'the name'\n",
            " 'the name is' 'the name is microsoft']\n"
          ]
        }
      ],
      "source": [
        "vect3 = TfidfVectorizer(analyzer='word', ngram_range=(2, 5))\n",
        "x = vect3.fit_transform(corpus)\n",
        "\n",
        "print(vect3.get_feature_names_out())"
      ]
    },
    {
      "cell_type": "code",
      "source": [
        "pip install fuzzy_match"
      ],
      "metadata": {
        "colab": {
          "base_uri": "https://localhost:8080/"
        },
        "id": "woxrmEanx_f6",
        "outputId": "12df0008-9f8d-422c-cda3-fcfd495116f1"
      },
      "execution_count": 8,
      "outputs": [
        {
          "output_type": "stream",
          "name": "stdout",
          "text": [
            "Collecting fuzzy_match\n",
            "  Downloading fuzzy_match-0.0.1-py3-none-any.whl.metadata (2.4 kB)\n",
            "Downloading fuzzy_match-0.0.1-py3-none-any.whl (5.4 kB)\n",
            "Installing collected packages: fuzzy_match\n",
            "Successfully installed fuzzy_match-0.0.1\n"
          ]
        }
      ]
    },
    {
      "cell_type": "markdown",
      "metadata": {
        "id": "dtrQIytQ9EaK"
      },
      "source": [
        "### Let's implement on this example and compare with Levenshtein distance"
      ]
    },
    {
      "cell_type": "code",
      "execution_count": 9,
      "metadata": {
        "id": "UptCtwNZ9EaK"
      },
      "outputs": [],
      "source": [
        "import pandas as pd\n",
        "import itertools\n",
        "\n",
        "# for fuzzy matching\n",
        "from fuzzy_match import algorithims"
      ]
    },
    {
      "cell_type": "code",
      "execution_count": 10,
      "metadata": {
        "id": "VRNjeADn9EaK",
        "outputId": "afc3ccc0-e0e0-44b6-f8f2-0c8127dea214",
        "colab": {
          "base_uri": "https://localhost:8080/"
        }
      },
      "outputs": [
        {
          "output_type": "execute_result",
          "data": {
            "text/plain": [
              "[('company name is microsoft', 'The company name is Microsoft Corporation'),\n",
              " ('company the name is Microsoft',\n",
              "  'The company name is Microsoft Corporation'),\n",
              " ('company name mcrosft', 'The company name is Microsoft Corporation'),\n",
              " ('the company is Microsft Co', 'The company name is Microsoft Corporation'),\n",
              " ('company is Microsoft Corporation',\n",
              "  'The company name is Microsoft Corporation'),\n",
              " ('the company is name microsoft Corp',\n",
              "  'The company name is Microsoft Corporation'),\n",
              " ('company MCSFT CO name', 'The company name is Microsoft Corporation')]"
            ]
          },
          "metadata": {},
          "execution_count": 10
        }
      ],
      "source": [
        "# make a cartesian combination of the words in the corpus and the correct word\n",
        "\n",
        "cart_list = list(itertools.product(corpus, clean_corpus))\n",
        "cart_list"
      ]
    },
    {
      "cell_type": "code",
      "execution_count": 11,
      "metadata": {
        "id": "lJTlCpg49EaK"
      },
      "outputs": [],
      "source": [
        "def get_matches(lst):\n",
        "\n",
        "    '''function to calculate the Levenshtein\n",
        "    distance, trigram match score and the cosine\n",
        "    similarity matches for the above example'''\n",
        "\n",
        "    x, y, lscore, tscore, cscore = [], [], [], [], []\n",
        "\n",
        "    for i in range(len(lst)):\n",
        "        x.append(lst[i][0])\n",
        "        y.append(lst[i][1])\n",
        "\n",
        "        lscore.append(round(algorithims.levenshtein(lst[i][0], lst[i][1]), 3))\n",
        "        tscore.append(round(algorithims.trigram(lst[i][0], lst[i][1]), 3))\n",
        "        cscore.append(round(algorithims.cosine(lst[i][0], lst[i][1]), 3))\n",
        "\n",
        "    df = pd.DataFrame(list(zip(x, y, lscore, tscore, cscore)),\n",
        "                    columns = ['in_data', 'clean_data', 'lev_score', 'tri_score', 'cosine_score'])\n",
        "\n",
        "    return df"
      ]
    },
    {
      "cell_type": "code",
      "execution_count": 12,
      "metadata": {
        "id": "Y8eTgEyO9EaO",
        "outputId": "9bf526b4-cc44-41b6-8387-bbc6d4299a3e",
        "colab": {
          "base_uri": "https://localhost:8080/",
          "height": 390
        }
      },
      "outputs": [
        {
          "output_type": "execute_result",
          "data": {
            "text/plain": [
              "                              in_data  \\\n",
              "0           company name is microsoft   \n",
              "1       company the name is Microsoft   \n",
              "2                company name mcrosft   \n",
              "3          the company is Microsft Co   \n",
              "4    company is Microsoft Corporation   \n",
              "5  the company is name microsoft Corp   \n",
              "6               company MCSFT CO name   \n",
              "\n",
              "                                  clean_data  lev_score  tri_score  \\\n",
              "0  The company name is Microsoft Corporation      0.585      0.650   \n",
              "1  The company name is Microsoft Corporation      0.512      0.750   \n",
              "2  The company name is Microsoft Corporation      0.463      0.386   \n",
              "3  The company name is Microsoft Corporation      0.610      0.512   \n",
              "4  The company name is Microsoft Corporation      0.780      0.775   \n",
              "5  The company name is Microsoft Corporation      0.634      0.780   \n",
              "6  The company name is Microsoft Corporation      0.293      0.333   \n",
              "\n",
              "   cosine_score  \n",
              "0         0.612  \n",
              "1         0.730  \n",
              "2         0.471  \n",
              "3         0.365  \n",
              "4         0.816  \n",
              "5         0.500  \n",
              "6         0.408  "
            ],
            "text/html": [
              "\n",
              "  <div id=\"df-daa43425-86c2-475d-aacc-3dc4e9c6a05e\" class=\"colab-df-container\">\n",
              "    <div>\n",
              "<style scoped>\n",
              "    .dataframe tbody tr th:only-of-type {\n",
              "        vertical-align: middle;\n",
              "    }\n",
              "\n",
              "    .dataframe tbody tr th {\n",
              "        vertical-align: top;\n",
              "    }\n",
              "\n",
              "    .dataframe thead th {\n",
              "        text-align: right;\n",
              "    }\n",
              "</style>\n",
              "<table border=\"1\" class=\"dataframe\">\n",
              "  <thead>\n",
              "    <tr style=\"text-align: right;\">\n",
              "      <th></th>\n",
              "      <th>in_data</th>\n",
              "      <th>clean_data</th>\n",
              "      <th>lev_score</th>\n",
              "      <th>tri_score</th>\n",
              "      <th>cosine_score</th>\n",
              "    </tr>\n",
              "  </thead>\n",
              "  <tbody>\n",
              "    <tr>\n",
              "      <th>0</th>\n",
              "      <td>company name is microsoft</td>\n",
              "      <td>The company name is Microsoft Corporation</td>\n",
              "      <td>0.585</td>\n",
              "      <td>0.650</td>\n",
              "      <td>0.612</td>\n",
              "    </tr>\n",
              "    <tr>\n",
              "      <th>1</th>\n",
              "      <td>company the name is Microsoft</td>\n",
              "      <td>The company name is Microsoft Corporation</td>\n",
              "      <td>0.512</td>\n",
              "      <td>0.750</td>\n",
              "      <td>0.730</td>\n",
              "    </tr>\n",
              "    <tr>\n",
              "      <th>2</th>\n",
              "      <td>company name mcrosft</td>\n",
              "      <td>The company name is Microsoft Corporation</td>\n",
              "      <td>0.463</td>\n",
              "      <td>0.386</td>\n",
              "      <td>0.471</td>\n",
              "    </tr>\n",
              "    <tr>\n",
              "      <th>3</th>\n",
              "      <td>the company is Microsft Co</td>\n",
              "      <td>The company name is Microsoft Corporation</td>\n",
              "      <td>0.610</td>\n",
              "      <td>0.512</td>\n",
              "      <td>0.365</td>\n",
              "    </tr>\n",
              "    <tr>\n",
              "      <th>4</th>\n",
              "      <td>company is Microsoft Corporation</td>\n",
              "      <td>The company name is Microsoft Corporation</td>\n",
              "      <td>0.780</td>\n",
              "      <td>0.775</td>\n",
              "      <td>0.816</td>\n",
              "    </tr>\n",
              "    <tr>\n",
              "      <th>5</th>\n",
              "      <td>the company is name microsoft Corp</td>\n",
              "      <td>The company name is Microsoft Corporation</td>\n",
              "      <td>0.634</td>\n",
              "      <td>0.780</td>\n",
              "      <td>0.500</td>\n",
              "    </tr>\n",
              "    <tr>\n",
              "      <th>6</th>\n",
              "      <td>company MCSFT CO name</td>\n",
              "      <td>The company name is Microsoft Corporation</td>\n",
              "      <td>0.293</td>\n",
              "      <td>0.333</td>\n",
              "      <td>0.408</td>\n",
              "    </tr>\n",
              "  </tbody>\n",
              "</table>\n",
              "</div>\n",
              "    <div class=\"colab-df-buttons\">\n",
              "\n",
              "  <div class=\"colab-df-container\">\n",
              "    <button class=\"colab-df-convert\" onclick=\"convertToInteractive('df-daa43425-86c2-475d-aacc-3dc4e9c6a05e')\"\n",
              "            title=\"Convert this dataframe to an interactive table.\"\n",
              "            style=\"display:none;\">\n",
              "\n",
              "  <svg xmlns=\"http://www.w3.org/2000/svg\" height=\"24px\" viewBox=\"0 -960 960 960\">\n",
              "    <path d=\"M120-120v-720h720v720H120Zm60-500h600v-160H180v160Zm220 220h160v-160H400v160Zm0 220h160v-160H400v160ZM180-400h160v-160H180v160Zm440 0h160v-160H620v160ZM180-180h160v-160H180v160Zm440 0h160v-160H620v160Z\"/>\n",
              "  </svg>\n",
              "    </button>\n",
              "\n",
              "  <style>\n",
              "    .colab-df-container {\n",
              "      display:flex;\n",
              "      gap: 12px;\n",
              "    }\n",
              "\n",
              "    .colab-df-convert {\n",
              "      background-color: #E8F0FE;\n",
              "      border: none;\n",
              "      border-radius: 50%;\n",
              "      cursor: pointer;\n",
              "      display: none;\n",
              "      fill: #1967D2;\n",
              "      height: 32px;\n",
              "      padding: 0 0 0 0;\n",
              "      width: 32px;\n",
              "    }\n",
              "\n",
              "    .colab-df-convert:hover {\n",
              "      background-color: #E2EBFA;\n",
              "      box-shadow: 0px 1px 2px rgba(60, 64, 67, 0.3), 0px 1px 3px 1px rgba(60, 64, 67, 0.15);\n",
              "      fill: #174EA6;\n",
              "    }\n",
              "\n",
              "    .colab-df-buttons div {\n",
              "      margin-bottom: 4px;\n",
              "    }\n",
              "\n",
              "    [theme=dark] .colab-df-convert {\n",
              "      background-color: #3B4455;\n",
              "      fill: #D2E3FC;\n",
              "    }\n",
              "\n",
              "    [theme=dark] .colab-df-convert:hover {\n",
              "      background-color: #434B5C;\n",
              "      box-shadow: 0px 1px 3px 1px rgba(0, 0, 0, 0.15);\n",
              "      filter: drop-shadow(0px 1px 2px rgba(0, 0, 0, 0.3));\n",
              "      fill: #FFFFFF;\n",
              "    }\n",
              "  </style>\n",
              "\n",
              "    <script>\n",
              "      const buttonEl =\n",
              "        document.querySelector('#df-daa43425-86c2-475d-aacc-3dc4e9c6a05e button.colab-df-convert');\n",
              "      buttonEl.style.display =\n",
              "        google.colab.kernel.accessAllowed ? 'block' : 'none';\n",
              "\n",
              "      async function convertToInteractive(key) {\n",
              "        const element = document.querySelector('#df-daa43425-86c2-475d-aacc-3dc4e9c6a05e');\n",
              "        const dataTable =\n",
              "          await google.colab.kernel.invokeFunction('convertToInteractive',\n",
              "                                                    [key], {});\n",
              "        if (!dataTable) return;\n",
              "\n",
              "        const docLinkHtml = 'Like what you see? Visit the ' +\n",
              "          '<a target=\"_blank\" href=https://colab.research.google.com/notebooks/data_table.ipynb>data table notebook</a>'\n",
              "          + ' to learn more about interactive tables.';\n",
              "        element.innerHTML = '';\n",
              "        dataTable['output_type'] = 'display_data';\n",
              "        await google.colab.output.renderOutput(dataTable, element);\n",
              "        const docLink = document.createElement('div');\n",
              "        docLink.innerHTML = docLinkHtml;\n",
              "        element.appendChild(docLink);\n",
              "      }\n",
              "    </script>\n",
              "  </div>\n",
              "\n",
              "\n",
              "<div id=\"df-f5bded92-2c08-4f12-a4ca-ea36009e9996\">\n",
              "  <button class=\"colab-df-quickchart\" onclick=\"quickchart('df-f5bded92-2c08-4f12-a4ca-ea36009e9996')\"\n",
              "            title=\"Suggest charts\"\n",
              "            style=\"display:none;\">\n",
              "\n",
              "<svg xmlns=\"http://www.w3.org/2000/svg\" height=\"24px\"viewBox=\"0 0 24 24\"\n",
              "     width=\"24px\">\n",
              "    <g>\n",
              "        <path d=\"M19 3H5c-1.1 0-2 .9-2 2v14c0 1.1.9 2 2 2h14c1.1 0 2-.9 2-2V5c0-1.1-.9-2-2-2zM9 17H7v-7h2v7zm4 0h-2V7h2v10zm4 0h-2v-4h2v4z\"/>\n",
              "    </g>\n",
              "</svg>\n",
              "  </button>\n",
              "\n",
              "<style>\n",
              "  .colab-df-quickchart {\n",
              "      --bg-color: #E8F0FE;\n",
              "      --fill-color: #1967D2;\n",
              "      --hover-bg-color: #E2EBFA;\n",
              "      --hover-fill-color: #174EA6;\n",
              "      --disabled-fill-color: #AAA;\n",
              "      --disabled-bg-color: #DDD;\n",
              "  }\n",
              "\n",
              "  [theme=dark] .colab-df-quickchart {\n",
              "      --bg-color: #3B4455;\n",
              "      --fill-color: #D2E3FC;\n",
              "      --hover-bg-color: #434B5C;\n",
              "      --hover-fill-color: #FFFFFF;\n",
              "      --disabled-bg-color: #3B4455;\n",
              "      --disabled-fill-color: #666;\n",
              "  }\n",
              "\n",
              "  .colab-df-quickchart {\n",
              "    background-color: var(--bg-color);\n",
              "    border: none;\n",
              "    border-radius: 50%;\n",
              "    cursor: pointer;\n",
              "    display: none;\n",
              "    fill: var(--fill-color);\n",
              "    height: 32px;\n",
              "    padding: 0;\n",
              "    width: 32px;\n",
              "  }\n",
              "\n",
              "  .colab-df-quickchart:hover {\n",
              "    background-color: var(--hover-bg-color);\n",
              "    box-shadow: 0 1px 2px rgba(60, 64, 67, 0.3), 0 1px 3px 1px rgba(60, 64, 67, 0.15);\n",
              "    fill: var(--button-hover-fill-color);\n",
              "  }\n",
              "\n",
              "  .colab-df-quickchart-complete:disabled,\n",
              "  .colab-df-quickchart-complete:disabled:hover {\n",
              "    background-color: var(--disabled-bg-color);\n",
              "    fill: var(--disabled-fill-color);\n",
              "    box-shadow: none;\n",
              "  }\n",
              "\n",
              "  .colab-df-spinner {\n",
              "    border: 2px solid var(--fill-color);\n",
              "    border-color: transparent;\n",
              "    border-bottom-color: var(--fill-color);\n",
              "    animation:\n",
              "      spin 1s steps(1) infinite;\n",
              "  }\n",
              "\n",
              "  @keyframes spin {\n",
              "    0% {\n",
              "      border-color: transparent;\n",
              "      border-bottom-color: var(--fill-color);\n",
              "      border-left-color: var(--fill-color);\n",
              "    }\n",
              "    20% {\n",
              "      border-color: transparent;\n",
              "      border-left-color: var(--fill-color);\n",
              "      border-top-color: var(--fill-color);\n",
              "    }\n",
              "    30% {\n",
              "      border-color: transparent;\n",
              "      border-left-color: var(--fill-color);\n",
              "      border-top-color: var(--fill-color);\n",
              "      border-right-color: var(--fill-color);\n",
              "    }\n",
              "    40% {\n",
              "      border-color: transparent;\n",
              "      border-right-color: var(--fill-color);\n",
              "      border-top-color: var(--fill-color);\n",
              "    }\n",
              "    60% {\n",
              "      border-color: transparent;\n",
              "      border-right-color: var(--fill-color);\n",
              "    }\n",
              "    80% {\n",
              "      border-color: transparent;\n",
              "      border-right-color: var(--fill-color);\n",
              "      border-bottom-color: var(--fill-color);\n",
              "    }\n",
              "    90% {\n",
              "      border-color: transparent;\n",
              "      border-bottom-color: var(--fill-color);\n",
              "    }\n",
              "  }\n",
              "</style>\n",
              "\n",
              "  <script>\n",
              "    async function quickchart(key) {\n",
              "      const quickchartButtonEl =\n",
              "        document.querySelector('#' + key + ' button');\n",
              "      quickchartButtonEl.disabled = true;  // To prevent multiple clicks.\n",
              "      quickchartButtonEl.classList.add('colab-df-spinner');\n",
              "      try {\n",
              "        const charts = await google.colab.kernel.invokeFunction(\n",
              "            'suggestCharts', [key], {});\n",
              "      } catch (error) {\n",
              "        console.error('Error during call to suggestCharts:', error);\n",
              "      }\n",
              "      quickchartButtonEl.classList.remove('colab-df-spinner');\n",
              "      quickchartButtonEl.classList.add('colab-df-quickchart-complete');\n",
              "    }\n",
              "    (() => {\n",
              "      let quickchartButtonEl =\n",
              "        document.querySelector('#df-f5bded92-2c08-4f12-a4ca-ea36009e9996 button');\n",
              "      quickchartButtonEl.style.display =\n",
              "        google.colab.kernel.accessAllowed ? 'block' : 'none';\n",
              "    })();\n",
              "  </script>\n",
              "</div>\n",
              "\n",
              "    </div>\n",
              "  </div>\n"
            ],
            "application/vnd.google.colaboratory.intrinsic+json": {
              "type": "dataframe",
              "summary": "{\n  \"name\": \"get_matches(cart_list)\",\n  \"rows\": 7,\n  \"fields\": [\n    {\n      \"column\": \"in_data\",\n      \"properties\": {\n        \"dtype\": \"string\",\n        \"num_unique_values\": 7,\n        \"samples\": [\n          \"company name is microsoft\",\n          \"company the name is Microsoft\",\n          \"the company is name microsoft Corp\"\n        ],\n        \"semantic_type\": \"\",\n        \"description\": \"\"\n      }\n    },\n    {\n      \"column\": \"clean_data\",\n      \"properties\": {\n        \"dtype\": \"category\",\n        \"num_unique_values\": 1,\n        \"samples\": [\n          \"The company name is Microsoft Corporation\"\n        ],\n        \"semantic_type\": \"\",\n        \"description\": \"\"\n      }\n    },\n    {\n      \"column\": \"lev_score\",\n      \"properties\": {\n        \"dtype\": \"number\",\n        \"std\": 0.15260999155956181,\n        \"min\": 0.293,\n        \"max\": 0.78,\n        \"num_unique_values\": 7,\n        \"samples\": [\n          0.585\n        ],\n        \"semantic_type\": \"\",\n        \"description\": \"\"\n      }\n    },\n    {\n      \"column\": \"tri_score\",\n      \"properties\": {\n        \"dtype\": \"number\",\n        \"std\": 0.18833746308156538,\n        \"min\": 0.333,\n        \"max\": 0.78,\n        \"num_unique_values\": 7,\n        \"samples\": [\n          0.65\n        ],\n        \"semantic_type\": \"\",\n        \"description\": \"\"\n      }\n    },\n    {\n      \"column\": \"cosine_score\",\n      \"properties\": {\n        \"dtype\": \"number\",\n        \"std\": 0.16819815411477929,\n        \"min\": 0.365,\n        \"max\": 0.816,\n        \"num_unique_values\": 7,\n        \"samples\": [\n          0.612\n        ],\n        \"semantic_type\": \"\",\n        \"description\": \"\"\n      }\n    }\n  ]\n}"
            }
          },
          "metadata": {},
          "execution_count": 12
        }
      ],
      "source": [
        "get_matches(cart_list)"
      ]
    },
    {
      "cell_type": "markdown",
      "metadata": {
        "id": "YVjLYMIe9EaO"
      },
      "source": [
        "<a id = 'real'></a>"
      ]
    },
    {
      "cell_type": "markdown",
      "metadata": {
        "id": "BU6BG26G9EaO"
      },
      "source": [
        "![image.png](attachment:41f29434-62b8-4aa7-a289-50803e332989.png)\n",
        "\n",
        "### Download data [here from Kaggle](https://www.kaggle.com/leandrodoze/room-type).\n",
        "\n",
        "The data contains two columns for room type descriptions. Column 1 is the description from Expedia, and column 2 is the associated room type in Booking.com.\n",
        "\n",
        "<u> **Aim:**</u> is to compare and match these two columns and the result would be 'human like understanding that the matched entries are same'.\n",
        "\n",
        "Packages used:\n",
        "- fuzzywuzzy (Refer [here](https://pypi.org/project/fuzzywuzzy/) for more information).\n",
        "- fuzzy_match (Refer [here](https://pypi.org/project/fuzzy-match/) for more information)."
      ]
    },
    {
      "cell_type": "code",
      "source": [
        "pip install fuzzywuzzy"
      ],
      "metadata": {
        "colab": {
          "base_uri": "https://localhost:8080/"
        },
        "id": "mTGNwzgeyICK",
        "outputId": "b240ed6e-92ab-44f1-c9b3-7ba1e2a74719"
      },
      "execution_count": 13,
      "outputs": [
        {
          "output_type": "stream",
          "name": "stdout",
          "text": [
            "Collecting fuzzywuzzy\n",
            "  Downloading fuzzywuzzy-0.18.0-py2.py3-none-any.whl.metadata (4.9 kB)\n",
            "Downloading fuzzywuzzy-0.18.0-py2.py3-none-any.whl (18 kB)\n",
            "Installing collected packages: fuzzywuzzy\n",
            "Successfully installed fuzzywuzzy-0.18.0\n"
          ]
        }
      ]
    },
    {
      "cell_type": "code",
      "execution_count": 14,
      "metadata": {
        "id": "OxadCAFd9EaO",
        "colab": {
          "base_uri": "https://localhost:8080/"
        },
        "outputId": "18984b15-bd11-4eb0-f0b2-5fcc15262a16"
      },
      "outputs": [
        {
          "output_type": "stream",
          "name": "stderr",
          "text": [
            "/usr/local/lib/python3.11/dist-packages/fuzzywuzzy/fuzz.py:11: UserWarning: Using slow pure-python SequenceMatcher. Install python-Levenshtein to remove this warning\n",
            "  warnings.warn('Using slow pure-python SequenceMatcher. Install python-Levenshtein to remove this warning')\n"
          ]
        }
      ],
      "source": [
        "# import libraries\n",
        "import pandas as pd\n",
        "\n",
        "# this is for fuzzy matching\n",
        "from fuzzywuzzy import fuzz\n",
        "from fuzzy_match import algorithims"
      ]
    },
    {
      "cell_type": "code",
      "execution_count": 15,
      "metadata": {
        "id": "eFNgtYIn9EaO"
      },
      "outputs": [],
      "source": [
        "data_df = pd.read_csv('/content/financial_name_matching_corrected.csv')"
      ]
    },
    {
      "cell_type": "code",
      "execution_count": 16,
      "metadata": {
        "id": "rCjrUXaw9EaP",
        "outputId": "9966df51-49c7-4fa0-8f06-d0df9a76c53b",
        "colab": {
          "base_uri": "https://localhost:8080/",
          "height": 293
        }
      },
      "outputs": [
        {
          "output_type": "execute_result",
          "data": {
            "text/plain": [
              "   Record_ID             Name     Name_Variant                 Company_Name  \\\n",
              "0          1   Heather Holmes   He@ther H0lmes  Hayes, Peterson and Sanders   \n",
              "1          2  Timothy Mathews  Tim0thy M@thews  Combs, Martin and Patterson   \n",
              "2          3   Robert Ramirez   R0bert R@mirez                 Miller Group   \n",
              "3          4   Heather Madden   He@ther M@dden        Li, Watkins and Smith   \n",
              "4          5    Barry Collier    B@rry C0llier   Montoya, Miller and Flores   \n",
              "\n",
              "          Company_Name_Variant       Match_Label  \n",
              "0  Hay3s, P3t3rson and Sand3rs  Slight Variation  \n",
              "1  Combs, Martin and Patt3rson  Slight Variation  \n",
              "2                 Mill3r Group  Slight Variation  \n",
              "3        Li, Watkins and Smith  Slight Variation  \n",
              "4   Montoya, Mill3r and Flor3s  Slight Variation  "
            ],
            "text/html": [
              "\n",
              "  <div id=\"df-464a99b1-de34-4891-b209-ad7e0884d67d\" class=\"colab-df-container\">\n",
              "    <div>\n",
              "<style scoped>\n",
              "    .dataframe tbody tr th:only-of-type {\n",
              "        vertical-align: middle;\n",
              "    }\n",
              "\n",
              "    .dataframe tbody tr th {\n",
              "        vertical-align: top;\n",
              "    }\n",
              "\n",
              "    .dataframe thead th {\n",
              "        text-align: right;\n",
              "    }\n",
              "</style>\n",
              "<table border=\"1\" class=\"dataframe\">\n",
              "  <thead>\n",
              "    <tr style=\"text-align: right;\">\n",
              "      <th></th>\n",
              "      <th>Record_ID</th>\n",
              "      <th>Name</th>\n",
              "      <th>Name_Variant</th>\n",
              "      <th>Company_Name</th>\n",
              "      <th>Company_Name_Variant</th>\n",
              "      <th>Match_Label</th>\n",
              "    </tr>\n",
              "  </thead>\n",
              "  <tbody>\n",
              "    <tr>\n",
              "      <th>0</th>\n",
              "      <td>1</td>\n",
              "      <td>Heather Holmes</td>\n",
              "      <td>He@ther H0lmes</td>\n",
              "      <td>Hayes, Peterson and Sanders</td>\n",
              "      <td>Hay3s, P3t3rson and Sand3rs</td>\n",
              "      <td>Slight Variation</td>\n",
              "    </tr>\n",
              "    <tr>\n",
              "      <th>1</th>\n",
              "      <td>2</td>\n",
              "      <td>Timothy Mathews</td>\n",
              "      <td>Tim0thy M@thews</td>\n",
              "      <td>Combs, Martin and Patterson</td>\n",
              "      <td>Combs, Martin and Patt3rson</td>\n",
              "      <td>Slight Variation</td>\n",
              "    </tr>\n",
              "    <tr>\n",
              "      <th>2</th>\n",
              "      <td>3</td>\n",
              "      <td>Robert Ramirez</td>\n",
              "      <td>R0bert R@mirez</td>\n",
              "      <td>Miller Group</td>\n",
              "      <td>Mill3r Group</td>\n",
              "      <td>Slight Variation</td>\n",
              "    </tr>\n",
              "    <tr>\n",
              "      <th>3</th>\n",
              "      <td>4</td>\n",
              "      <td>Heather Madden</td>\n",
              "      <td>He@ther M@dden</td>\n",
              "      <td>Li, Watkins and Smith</td>\n",
              "      <td>Li, Watkins and Smith</td>\n",
              "      <td>Slight Variation</td>\n",
              "    </tr>\n",
              "    <tr>\n",
              "      <th>4</th>\n",
              "      <td>5</td>\n",
              "      <td>Barry Collier</td>\n",
              "      <td>B@rry C0llier</td>\n",
              "      <td>Montoya, Miller and Flores</td>\n",
              "      <td>Montoya, Mill3r and Flor3s</td>\n",
              "      <td>Slight Variation</td>\n",
              "    </tr>\n",
              "  </tbody>\n",
              "</table>\n",
              "</div>\n",
              "    <div class=\"colab-df-buttons\">\n",
              "\n",
              "  <div class=\"colab-df-container\">\n",
              "    <button class=\"colab-df-convert\" onclick=\"convertToInteractive('df-464a99b1-de34-4891-b209-ad7e0884d67d')\"\n",
              "            title=\"Convert this dataframe to an interactive table.\"\n",
              "            style=\"display:none;\">\n",
              "\n",
              "  <svg xmlns=\"http://www.w3.org/2000/svg\" height=\"24px\" viewBox=\"0 -960 960 960\">\n",
              "    <path d=\"M120-120v-720h720v720H120Zm60-500h600v-160H180v160Zm220 220h160v-160H400v160Zm0 220h160v-160H400v160ZM180-400h160v-160H180v160Zm440 0h160v-160H620v160ZM180-180h160v-160H180v160Zm440 0h160v-160H620v160Z\"/>\n",
              "  </svg>\n",
              "    </button>\n",
              "\n",
              "  <style>\n",
              "    .colab-df-container {\n",
              "      display:flex;\n",
              "      gap: 12px;\n",
              "    }\n",
              "\n",
              "    .colab-df-convert {\n",
              "      background-color: #E8F0FE;\n",
              "      border: none;\n",
              "      border-radius: 50%;\n",
              "      cursor: pointer;\n",
              "      display: none;\n",
              "      fill: #1967D2;\n",
              "      height: 32px;\n",
              "      padding: 0 0 0 0;\n",
              "      width: 32px;\n",
              "    }\n",
              "\n",
              "    .colab-df-convert:hover {\n",
              "      background-color: #E2EBFA;\n",
              "      box-shadow: 0px 1px 2px rgba(60, 64, 67, 0.3), 0px 1px 3px 1px rgba(60, 64, 67, 0.15);\n",
              "      fill: #174EA6;\n",
              "    }\n",
              "\n",
              "    .colab-df-buttons div {\n",
              "      margin-bottom: 4px;\n",
              "    }\n",
              "\n",
              "    [theme=dark] .colab-df-convert {\n",
              "      background-color: #3B4455;\n",
              "      fill: #D2E3FC;\n",
              "    }\n",
              "\n",
              "    [theme=dark] .colab-df-convert:hover {\n",
              "      background-color: #434B5C;\n",
              "      box-shadow: 0px 1px 3px 1px rgba(0, 0, 0, 0.15);\n",
              "      filter: drop-shadow(0px 1px 2px rgba(0, 0, 0, 0.3));\n",
              "      fill: #FFFFFF;\n",
              "    }\n",
              "  </style>\n",
              "\n",
              "    <script>\n",
              "      const buttonEl =\n",
              "        document.querySelector('#df-464a99b1-de34-4891-b209-ad7e0884d67d button.colab-df-convert');\n",
              "      buttonEl.style.display =\n",
              "        google.colab.kernel.accessAllowed ? 'block' : 'none';\n",
              "\n",
              "      async function convertToInteractive(key) {\n",
              "        const element = document.querySelector('#df-464a99b1-de34-4891-b209-ad7e0884d67d');\n",
              "        const dataTable =\n",
              "          await google.colab.kernel.invokeFunction('convertToInteractive',\n",
              "                                                    [key], {});\n",
              "        if (!dataTable) return;\n",
              "\n",
              "        const docLinkHtml = 'Like what you see? Visit the ' +\n",
              "          '<a target=\"_blank\" href=https://colab.research.google.com/notebooks/data_table.ipynb>data table notebook</a>'\n",
              "          + ' to learn more about interactive tables.';\n",
              "        element.innerHTML = '';\n",
              "        dataTable['output_type'] = 'display_data';\n",
              "        await google.colab.output.renderOutput(dataTable, element);\n",
              "        const docLink = document.createElement('div');\n",
              "        docLink.innerHTML = docLinkHtml;\n",
              "        element.appendChild(docLink);\n",
              "      }\n",
              "    </script>\n",
              "  </div>\n",
              "\n",
              "\n",
              "<div id=\"df-9f6a2eb6-947a-4fb0-b4ff-2e4c46a63ebb\">\n",
              "  <button class=\"colab-df-quickchart\" onclick=\"quickchart('df-9f6a2eb6-947a-4fb0-b4ff-2e4c46a63ebb')\"\n",
              "            title=\"Suggest charts\"\n",
              "            style=\"display:none;\">\n",
              "\n",
              "<svg xmlns=\"http://www.w3.org/2000/svg\" height=\"24px\"viewBox=\"0 0 24 24\"\n",
              "     width=\"24px\">\n",
              "    <g>\n",
              "        <path d=\"M19 3H5c-1.1 0-2 .9-2 2v14c0 1.1.9 2 2 2h14c1.1 0 2-.9 2-2V5c0-1.1-.9-2-2-2zM9 17H7v-7h2v7zm4 0h-2V7h2v10zm4 0h-2v-4h2v4z\"/>\n",
              "    </g>\n",
              "</svg>\n",
              "  </button>\n",
              "\n",
              "<style>\n",
              "  .colab-df-quickchart {\n",
              "      --bg-color: #E8F0FE;\n",
              "      --fill-color: #1967D2;\n",
              "      --hover-bg-color: #E2EBFA;\n",
              "      --hover-fill-color: #174EA6;\n",
              "      --disabled-fill-color: #AAA;\n",
              "      --disabled-bg-color: #DDD;\n",
              "  }\n",
              "\n",
              "  [theme=dark] .colab-df-quickchart {\n",
              "      --bg-color: #3B4455;\n",
              "      --fill-color: #D2E3FC;\n",
              "      --hover-bg-color: #434B5C;\n",
              "      --hover-fill-color: #FFFFFF;\n",
              "      --disabled-bg-color: #3B4455;\n",
              "      --disabled-fill-color: #666;\n",
              "  }\n",
              "\n",
              "  .colab-df-quickchart {\n",
              "    background-color: var(--bg-color);\n",
              "    border: none;\n",
              "    border-radius: 50%;\n",
              "    cursor: pointer;\n",
              "    display: none;\n",
              "    fill: var(--fill-color);\n",
              "    height: 32px;\n",
              "    padding: 0;\n",
              "    width: 32px;\n",
              "  }\n",
              "\n",
              "  .colab-df-quickchart:hover {\n",
              "    background-color: var(--hover-bg-color);\n",
              "    box-shadow: 0 1px 2px rgba(60, 64, 67, 0.3), 0 1px 3px 1px rgba(60, 64, 67, 0.15);\n",
              "    fill: var(--button-hover-fill-color);\n",
              "  }\n",
              "\n",
              "  .colab-df-quickchart-complete:disabled,\n",
              "  .colab-df-quickchart-complete:disabled:hover {\n",
              "    background-color: var(--disabled-bg-color);\n",
              "    fill: var(--disabled-fill-color);\n",
              "    box-shadow: none;\n",
              "  }\n",
              "\n",
              "  .colab-df-spinner {\n",
              "    border: 2px solid var(--fill-color);\n",
              "    border-color: transparent;\n",
              "    border-bottom-color: var(--fill-color);\n",
              "    animation:\n",
              "      spin 1s steps(1) infinite;\n",
              "  }\n",
              "\n",
              "  @keyframes spin {\n",
              "    0% {\n",
              "      border-color: transparent;\n",
              "      border-bottom-color: var(--fill-color);\n",
              "      border-left-color: var(--fill-color);\n",
              "    }\n",
              "    20% {\n",
              "      border-color: transparent;\n",
              "      border-left-color: var(--fill-color);\n",
              "      border-top-color: var(--fill-color);\n",
              "    }\n",
              "    30% {\n",
              "      border-color: transparent;\n",
              "      border-left-color: var(--fill-color);\n",
              "      border-top-color: var(--fill-color);\n",
              "      border-right-color: var(--fill-color);\n",
              "    }\n",
              "    40% {\n",
              "      border-color: transparent;\n",
              "      border-right-color: var(--fill-color);\n",
              "      border-top-color: var(--fill-color);\n",
              "    }\n",
              "    60% {\n",
              "      border-color: transparent;\n",
              "      border-right-color: var(--fill-color);\n",
              "    }\n",
              "    80% {\n",
              "      border-color: transparent;\n",
              "      border-right-color: var(--fill-color);\n",
              "      border-bottom-color: var(--fill-color);\n",
              "    }\n",
              "    90% {\n",
              "      border-color: transparent;\n",
              "      border-bottom-color: var(--fill-color);\n",
              "    }\n",
              "  }\n",
              "</style>\n",
              "\n",
              "  <script>\n",
              "    async function quickchart(key) {\n",
              "      const quickchartButtonEl =\n",
              "        document.querySelector('#' + key + ' button');\n",
              "      quickchartButtonEl.disabled = true;  // To prevent multiple clicks.\n",
              "      quickchartButtonEl.classList.add('colab-df-spinner');\n",
              "      try {\n",
              "        const charts = await google.colab.kernel.invokeFunction(\n",
              "            'suggestCharts', [key], {});\n",
              "      } catch (error) {\n",
              "        console.error('Error during call to suggestCharts:', error);\n",
              "      }\n",
              "      quickchartButtonEl.classList.remove('colab-df-spinner');\n",
              "      quickchartButtonEl.classList.add('colab-df-quickchart-complete');\n",
              "    }\n",
              "    (() => {\n",
              "      let quickchartButtonEl =\n",
              "        document.querySelector('#df-9f6a2eb6-947a-4fb0-b4ff-2e4c46a63ebb button');\n",
              "      quickchartButtonEl.style.display =\n",
              "        google.colab.kernel.accessAllowed ? 'block' : 'none';\n",
              "    })();\n",
              "  </script>\n",
              "</div>\n",
              "\n",
              "    </div>\n",
              "  </div>\n"
            ],
            "application/vnd.google.colaboratory.intrinsic+json": {
              "type": "dataframe",
              "variable_name": "data_df",
              "summary": "{\n  \"name\": \"data_df\",\n  \"rows\": 10000,\n  \"fields\": [\n    {\n      \"column\": \"Record_ID\",\n      \"properties\": {\n        \"dtype\": \"number\",\n        \"std\": 2886,\n        \"min\": 1,\n        \"max\": 10000,\n        \"num_unique_values\": 10000,\n        \"samples\": [\n          6253,\n          4685,\n          1732\n        ],\n        \"semantic_type\": \"\",\n        \"description\": \"\"\n      }\n    },\n    {\n      \"column\": \"Name\",\n      \"properties\": {\n        \"dtype\": \"string\",\n        \"num_unique_values\": 9300,\n        \"samples\": [\n          \"Emily Lee\",\n          \"Nancy Andrews\",\n          \"Carolyn Juarez\"\n        ],\n        \"semantic_type\": \"\",\n        \"description\": \"\"\n      }\n    },\n    {\n      \"column\": \"Name_Variant\",\n      \"properties\": {\n        \"dtype\": \"string\",\n        \"num_unique_values\": 9740,\n        \"samples\": [\n          \"Ricardo Williams\",\n          \"Keith Anders0n\",\n          \"Lindsay Robertson\"\n        ],\n        \"semantic_type\": \"\",\n        \"description\": \"\"\n      }\n    },\n    {\n      \"column\": \"Company_Name\",\n      \"properties\": {\n        \"dtype\": \"string\",\n        \"num_unique_values\": 8598,\n        \"samples\": [\n          \"Novak, Weber and Byrd\",\n          \"Taylor LLC\",\n          \"Gamble-Tucker\"\n        ],\n        \"semantic_type\": \"\",\n        \"description\": \"\"\n      }\n    },\n    {\n      \"column\": \"Company_Name_Variant\",\n      \"properties\": {\n        \"dtype\": \"string\",\n        \"num_unique_values\": 9159,\n        \"samples\": [\n          \"Dunn LLC\",\n          \"Hanccok, Cummings and Flynn\",\n          \"Richard PLC\"\n        ],\n        \"semantic_type\": \"\",\n        \"description\": \"\"\n      }\n    },\n    {\n      \"column\": \"Match_Label\",\n      \"properties\": {\n        \"dtype\": \"category\",\n        \"num_unique_values\": 4,\n        \"samples\": [\n          \"Spelling Mistake\",\n          \"Exact Match\",\n          \"Slight Variation\"\n        ],\n        \"semantic_type\": \"\",\n        \"description\": \"\"\n      }\n    }\n  ]\n}"
            }
          },
          "metadata": {},
          "execution_count": 16
        }
      ],
      "source": [
        "data_df.head()"
      ]
    },
    {
      "cell_type": "markdown",
      "metadata": {
        "id": "Ku-QsVBQ9EaP"
      },
      "source": [
        "#### RATIO - Compares the entire string similarity"
      ]
    },
    {
      "cell_type": "code",
      "execution_count": 18,
      "metadata": {
        "id": "G-KpSnvb9EaP"
      },
      "outputs": [],
      "source": [
        "def get_ratio(row):\n",
        "\n",
        "    '''function to compare the values in each row\n",
        "    for the two columns in the same dataframe and\n",
        "    return the ratio for the entire string similarity'''\n",
        "\n",
        "    col1 = row['Name']\n",
        "    col2 = row['Name_Variant']\n",
        "\n",
        "    return fuzz.ratio(col1, col2)"
      ]
    },
    {
      "cell_type": "markdown",
      "metadata": {
        "id": "8EK1F6ca9EaP"
      },
      "source": [
        "#### PARTIAL RATIO - Compares partial string similarity"
      ]
    },
    {
      "cell_type": "code",
      "execution_count": 19,
      "metadata": {
        "id": "rLeH8Vqb9EaP"
      },
      "outputs": [],
      "source": [
        "def get_partial_ratio(row):\n",
        "\n",
        "    '''function to compare the values in each row\n",
        "    for the two columns in the same dataframeand\n",
        "    return the ratio for partial string similarity'''\n",
        "\n",
        "    col1 = row['Name']\n",
        "    col2 = row['Name_Variant']\n",
        "\n",
        "    return fuzz.partial_ratio(col1, col2)"
      ]
    },
    {
      "cell_type": "markdown",
      "metadata": {
        "id": "iYahuFvp9EaP"
      },
      "source": [
        "#### TOKEN SORT RATIO - Ignores word order"
      ]
    },
    {
      "cell_type": "code",
      "execution_count": 20,
      "metadata": {
        "id": "SFRlnLxe9EaP"
      },
      "outputs": [],
      "source": [
        "def get_token_sort_ratio(row):\n",
        "\n",
        "    '''function to compare the values in each row\n",
        "    for the two columns in the same dataframeand\n",
        "    return the ratio for string similarity by\n",
        "    ignoring word order'''\n",
        "\n",
        "    col1 = row['Name']\n",
        "    col2 = row['Name_Variant']\n",
        "    return fuzz.token_sort_ratio(col1, col2)"
      ]
    },
    {
      "cell_type": "markdown",
      "metadata": {
        "id": "PvJrsgil9EaP"
      },
      "source": [
        "#### TOKEN SET RATIO - Ignore duplicate words similarly to token sort ratio"
      ]
    },
    {
      "cell_type": "code",
      "execution_count": 21,
      "metadata": {
        "id": "35I2xn809EaP"
      },
      "outputs": [],
      "source": [
        "def get_token_set_ratio(row):\n",
        "\n",
        "    '''function to compare the values in each row\n",
        "    for the two columns in the same dataframeand\n",
        "    return the ratio for string similarity by\n",
        "    ignoring duplicate words and word order'''\n",
        "\n",
        "    col1 = row['Name']\n",
        "    col2 = row['Name_Variant']\n",
        "\n",
        "    return fuzz.token_set_ratio(col1, col2)"
      ]
    },
    {
      "cell_type": "markdown",
      "metadata": {
        "id": "q3Tt7tZt9EaQ"
      },
      "source": [
        "#### TRIGRAM - Calculates a similarity score and find matches by splitting strings into ngrams with a length of 3. The length of the ngram can be altered if desired."
      ]
    },
    {
      "cell_type": "code",
      "execution_count": 22,
      "metadata": {
        "id": "z9QLum-y9EaQ"
      },
      "outputs": [],
      "source": [
        "def get_trigram_value(row):\n",
        "\n",
        "    '''function to compare the values in each row\n",
        "    for the two columns in the same dataframeand\n",
        "    return the ratio for string similarity by\n",
        "    ignoring duplicate words and word order'''\n",
        "\n",
        "    col1 = row['Name']\n",
        "    col2 = row['Name_Variant']\n",
        "\n",
        "    return round(algorithims.trigram(col1, col2), 3)"
      ]
    },
    {
      "cell_type": "code",
      "execution_count": 23,
      "metadata": {
        "id": "nfRyMxOM9EaQ",
        "outputId": "29aa72cf-221b-421b-e4ed-09bf912889fe",
        "colab": {
          "base_uri": "https://localhost:8080/",
          "height": 347
        }
      },
      "outputs": [
        {
          "output_type": "execute_result",
          "data": {
            "text/plain": [
              "   Record_ID             Name     Name_Variant                 Company_Name  \\\n",
              "0          1   Heather Holmes   He@ther H0lmes  Hayes, Peterson and Sanders   \n",
              "1          2  Timothy Mathews  Tim0thy M@thews  Combs, Martin and Patterson   \n",
              "2          3   Robert Ramirez   R0bert R@mirez                 Miller Group   \n",
              "3          4   Heather Madden   He@ther M@dden        Li, Watkins and Smith   \n",
              "4          5    Barry Collier    B@rry C0llier   Montoya, Miller and Flores   \n",
              "\n",
              "          Company_Name_Variant       Match_Label  full_ratio  partial_ratio  \\\n",
              "0  Hay3s, P3t3rson and Sand3rs  Slight Variation          86             86   \n",
              "1  Combs, Martin and Patt3rson  Slight Variation          87             87   \n",
              "2                 Mill3r Group  Slight Variation          86             86   \n",
              "3        Li, Watkins and Smith  Slight Variation          86             86   \n",
              "4   Montoya, Mill3r and Flor3s  Slight Variation          85             85   \n",
              "\n",
              "   token_sort_ratio  token_set_ratio  trigram  \n",
              "0                43               43    0.400  \n",
              "1                87               87    0.476  \n",
              "2                79               79    0.400  \n",
              "3                43               43    0.429  \n",
              "4                62               62    0.400  "
            ],
            "text/html": [
              "\n",
              "  <div id=\"df-77aca6d9-db0b-4095-ba80-98073b779b08\" class=\"colab-df-container\">\n",
              "    <div>\n",
              "<style scoped>\n",
              "    .dataframe tbody tr th:only-of-type {\n",
              "        vertical-align: middle;\n",
              "    }\n",
              "\n",
              "    .dataframe tbody tr th {\n",
              "        vertical-align: top;\n",
              "    }\n",
              "\n",
              "    .dataframe thead th {\n",
              "        text-align: right;\n",
              "    }\n",
              "</style>\n",
              "<table border=\"1\" class=\"dataframe\">\n",
              "  <thead>\n",
              "    <tr style=\"text-align: right;\">\n",
              "      <th></th>\n",
              "      <th>Record_ID</th>\n",
              "      <th>Name</th>\n",
              "      <th>Name_Variant</th>\n",
              "      <th>Company_Name</th>\n",
              "      <th>Company_Name_Variant</th>\n",
              "      <th>Match_Label</th>\n",
              "      <th>full_ratio</th>\n",
              "      <th>partial_ratio</th>\n",
              "      <th>token_sort_ratio</th>\n",
              "      <th>token_set_ratio</th>\n",
              "      <th>trigram</th>\n",
              "    </tr>\n",
              "  </thead>\n",
              "  <tbody>\n",
              "    <tr>\n",
              "      <th>0</th>\n",
              "      <td>1</td>\n",
              "      <td>Heather Holmes</td>\n",
              "      <td>He@ther H0lmes</td>\n",
              "      <td>Hayes, Peterson and Sanders</td>\n",
              "      <td>Hay3s, P3t3rson and Sand3rs</td>\n",
              "      <td>Slight Variation</td>\n",
              "      <td>86</td>\n",
              "      <td>86</td>\n",
              "      <td>43</td>\n",
              "      <td>43</td>\n",
              "      <td>0.400</td>\n",
              "    </tr>\n",
              "    <tr>\n",
              "      <th>1</th>\n",
              "      <td>2</td>\n",
              "      <td>Timothy Mathews</td>\n",
              "      <td>Tim0thy M@thews</td>\n",
              "      <td>Combs, Martin and Patterson</td>\n",
              "      <td>Combs, Martin and Patt3rson</td>\n",
              "      <td>Slight Variation</td>\n",
              "      <td>87</td>\n",
              "      <td>87</td>\n",
              "      <td>87</td>\n",
              "      <td>87</td>\n",
              "      <td>0.476</td>\n",
              "    </tr>\n",
              "    <tr>\n",
              "      <th>2</th>\n",
              "      <td>3</td>\n",
              "      <td>Robert Ramirez</td>\n",
              "      <td>R0bert R@mirez</td>\n",
              "      <td>Miller Group</td>\n",
              "      <td>Mill3r Group</td>\n",
              "      <td>Slight Variation</td>\n",
              "      <td>86</td>\n",
              "      <td>86</td>\n",
              "      <td>79</td>\n",
              "      <td>79</td>\n",
              "      <td>0.400</td>\n",
              "    </tr>\n",
              "    <tr>\n",
              "      <th>3</th>\n",
              "      <td>4</td>\n",
              "      <td>Heather Madden</td>\n",
              "      <td>He@ther M@dden</td>\n",
              "      <td>Li, Watkins and Smith</td>\n",
              "      <td>Li, Watkins and Smith</td>\n",
              "      <td>Slight Variation</td>\n",
              "      <td>86</td>\n",
              "      <td>86</td>\n",
              "      <td>43</td>\n",
              "      <td>43</td>\n",
              "      <td>0.429</td>\n",
              "    </tr>\n",
              "    <tr>\n",
              "      <th>4</th>\n",
              "      <td>5</td>\n",
              "      <td>Barry Collier</td>\n",
              "      <td>B@rry C0llier</td>\n",
              "      <td>Montoya, Miller and Flores</td>\n",
              "      <td>Montoya, Mill3r and Flor3s</td>\n",
              "      <td>Slight Variation</td>\n",
              "      <td>85</td>\n",
              "      <td>85</td>\n",
              "      <td>62</td>\n",
              "      <td>62</td>\n",
              "      <td>0.400</td>\n",
              "    </tr>\n",
              "  </tbody>\n",
              "</table>\n",
              "</div>\n",
              "    <div class=\"colab-df-buttons\">\n",
              "\n",
              "  <div class=\"colab-df-container\">\n",
              "    <button class=\"colab-df-convert\" onclick=\"convertToInteractive('df-77aca6d9-db0b-4095-ba80-98073b779b08')\"\n",
              "            title=\"Convert this dataframe to an interactive table.\"\n",
              "            style=\"display:none;\">\n",
              "\n",
              "  <svg xmlns=\"http://www.w3.org/2000/svg\" height=\"24px\" viewBox=\"0 -960 960 960\">\n",
              "    <path d=\"M120-120v-720h720v720H120Zm60-500h600v-160H180v160Zm220 220h160v-160H400v160Zm0 220h160v-160H400v160ZM180-400h160v-160H180v160Zm440 0h160v-160H620v160ZM180-180h160v-160H180v160Zm440 0h160v-160H620v160Z\"/>\n",
              "  </svg>\n",
              "    </button>\n",
              "\n",
              "  <style>\n",
              "    .colab-df-container {\n",
              "      display:flex;\n",
              "      gap: 12px;\n",
              "    }\n",
              "\n",
              "    .colab-df-convert {\n",
              "      background-color: #E8F0FE;\n",
              "      border: none;\n",
              "      border-radius: 50%;\n",
              "      cursor: pointer;\n",
              "      display: none;\n",
              "      fill: #1967D2;\n",
              "      height: 32px;\n",
              "      padding: 0 0 0 0;\n",
              "      width: 32px;\n",
              "    }\n",
              "\n",
              "    .colab-df-convert:hover {\n",
              "      background-color: #E2EBFA;\n",
              "      box-shadow: 0px 1px 2px rgba(60, 64, 67, 0.3), 0px 1px 3px 1px rgba(60, 64, 67, 0.15);\n",
              "      fill: #174EA6;\n",
              "    }\n",
              "\n",
              "    .colab-df-buttons div {\n",
              "      margin-bottom: 4px;\n",
              "    }\n",
              "\n",
              "    [theme=dark] .colab-df-convert {\n",
              "      background-color: #3B4455;\n",
              "      fill: #D2E3FC;\n",
              "    }\n",
              "\n",
              "    [theme=dark] .colab-df-convert:hover {\n",
              "      background-color: #434B5C;\n",
              "      box-shadow: 0px 1px 3px 1px rgba(0, 0, 0, 0.15);\n",
              "      filter: drop-shadow(0px 1px 2px rgba(0, 0, 0, 0.3));\n",
              "      fill: #FFFFFF;\n",
              "    }\n",
              "  </style>\n",
              "\n",
              "    <script>\n",
              "      const buttonEl =\n",
              "        document.querySelector('#df-77aca6d9-db0b-4095-ba80-98073b779b08 button.colab-df-convert');\n",
              "      buttonEl.style.display =\n",
              "        google.colab.kernel.accessAllowed ? 'block' : 'none';\n",
              "\n",
              "      async function convertToInteractive(key) {\n",
              "        const element = document.querySelector('#df-77aca6d9-db0b-4095-ba80-98073b779b08');\n",
              "        const dataTable =\n",
              "          await google.colab.kernel.invokeFunction('convertToInteractive',\n",
              "                                                    [key], {});\n",
              "        if (!dataTable) return;\n",
              "\n",
              "        const docLinkHtml = 'Like what you see? Visit the ' +\n",
              "          '<a target=\"_blank\" href=https://colab.research.google.com/notebooks/data_table.ipynb>data table notebook</a>'\n",
              "          + ' to learn more about interactive tables.';\n",
              "        element.innerHTML = '';\n",
              "        dataTable['output_type'] = 'display_data';\n",
              "        await google.colab.output.renderOutput(dataTable, element);\n",
              "        const docLink = document.createElement('div');\n",
              "        docLink.innerHTML = docLinkHtml;\n",
              "        element.appendChild(docLink);\n",
              "      }\n",
              "    </script>\n",
              "  </div>\n",
              "\n",
              "\n",
              "<div id=\"df-96509ab7-18be-48e7-a834-79fab0bfac42\">\n",
              "  <button class=\"colab-df-quickchart\" onclick=\"quickchart('df-96509ab7-18be-48e7-a834-79fab0bfac42')\"\n",
              "            title=\"Suggest charts\"\n",
              "            style=\"display:none;\">\n",
              "\n",
              "<svg xmlns=\"http://www.w3.org/2000/svg\" height=\"24px\"viewBox=\"0 0 24 24\"\n",
              "     width=\"24px\">\n",
              "    <g>\n",
              "        <path d=\"M19 3H5c-1.1 0-2 .9-2 2v14c0 1.1.9 2 2 2h14c1.1 0 2-.9 2-2V5c0-1.1-.9-2-2-2zM9 17H7v-7h2v7zm4 0h-2V7h2v10zm4 0h-2v-4h2v4z\"/>\n",
              "    </g>\n",
              "</svg>\n",
              "  </button>\n",
              "\n",
              "<style>\n",
              "  .colab-df-quickchart {\n",
              "      --bg-color: #E8F0FE;\n",
              "      --fill-color: #1967D2;\n",
              "      --hover-bg-color: #E2EBFA;\n",
              "      --hover-fill-color: #174EA6;\n",
              "      --disabled-fill-color: #AAA;\n",
              "      --disabled-bg-color: #DDD;\n",
              "  }\n",
              "\n",
              "  [theme=dark] .colab-df-quickchart {\n",
              "      --bg-color: #3B4455;\n",
              "      --fill-color: #D2E3FC;\n",
              "      --hover-bg-color: #434B5C;\n",
              "      --hover-fill-color: #FFFFFF;\n",
              "      --disabled-bg-color: #3B4455;\n",
              "      --disabled-fill-color: #666;\n",
              "  }\n",
              "\n",
              "  .colab-df-quickchart {\n",
              "    background-color: var(--bg-color);\n",
              "    border: none;\n",
              "    border-radius: 50%;\n",
              "    cursor: pointer;\n",
              "    display: none;\n",
              "    fill: var(--fill-color);\n",
              "    height: 32px;\n",
              "    padding: 0;\n",
              "    width: 32px;\n",
              "  }\n",
              "\n",
              "  .colab-df-quickchart:hover {\n",
              "    background-color: var(--hover-bg-color);\n",
              "    box-shadow: 0 1px 2px rgba(60, 64, 67, 0.3), 0 1px 3px 1px rgba(60, 64, 67, 0.15);\n",
              "    fill: var(--button-hover-fill-color);\n",
              "  }\n",
              "\n",
              "  .colab-df-quickchart-complete:disabled,\n",
              "  .colab-df-quickchart-complete:disabled:hover {\n",
              "    background-color: var(--disabled-bg-color);\n",
              "    fill: var(--disabled-fill-color);\n",
              "    box-shadow: none;\n",
              "  }\n",
              "\n",
              "  .colab-df-spinner {\n",
              "    border: 2px solid var(--fill-color);\n",
              "    border-color: transparent;\n",
              "    border-bottom-color: var(--fill-color);\n",
              "    animation:\n",
              "      spin 1s steps(1) infinite;\n",
              "  }\n",
              "\n",
              "  @keyframes spin {\n",
              "    0% {\n",
              "      border-color: transparent;\n",
              "      border-bottom-color: var(--fill-color);\n",
              "      border-left-color: var(--fill-color);\n",
              "    }\n",
              "    20% {\n",
              "      border-color: transparent;\n",
              "      border-left-color: var(--fill-color);\n",
              "      border-top-color: var(--fill-color);\n",
              "    }\n",
              "    30% {\n",
              "      border-color: transparent;\n",
              "      border-left-color: var(--fill-color);\n",
              "      border-top-color: var(--fill-color);\n",
              "      border-right-color: var(--fill-color);\n",
              "    }\n",
              "    40% {\n",
              "      border-color: transparent;\n",
              "      border-right-color: var(--fill-color);\n",
              "      border-top-color: var(--fill-color);\n",
              "    }\n",
              "    60% {\n",
              "      border-color: transparent;\n",
              "      border-right-color: var(--fill-color);\n",
              "    }\n",
              "    80% {\n",
              "      border-color: transparent;\n",
              "      border-right-color: var(--fill-color);\n",
              "      border-bottom-color: var(--fill-color);\n",
              "    }\n",
              "    90% {\n",
              "      border-color: transparent;\n",
              "      border-bottom-color: var(--fill-color);\n",
              "    }\n",
              "  }\n",
              "</style>\n",
              "\n",
              "  <script>\n",
              "    async function quickchart(key) {\n",
              "      const quickchartButtonEl =\n",
              "        document.querySelector('#' + key + ' button');\n",
              "      quickchartButtonEl.disabled = true;  // To prevent multiple clicks.\n",
              "      quickchartButtonEl.classList.add('colab-df-spinner');\n",
              "      try {\n",
              "        const charts = await google.colab.kernel.invokeFunction(\n",
              "            'suggestCharts', [key], {});\n",
              "      } catch (error) {\n",
              "        console.error('Error during call to suggestCharts:', error);\n",
              "      }\n",
              "      quickchartButtonEl.classList.remove('colab-df-spinner');\n",
              "      quickchartButtonEl.classList.add('colab-df-quickchart-complete');\n",
              "    }\n",
              "    (() => {\n",
              "      let quickchartButtonEl =\n",
              "        document.querySelector('#df-96509ab7-18be-48e7-a834-79fab0bfac42 button');\n",
              "      quickchartButtonEl.style.display =\n",
              "        google.colab.kernel.accessAllowed ? 'block' : 'none';\n",
              "    })();\n",
              "  </script>\n",
              "</div>\n",
              "\n",
              "    </div>\n",
              "  </div>\n"
            ],
            "application/vnd.google.colaboratory.intrinsic+json": {
              "type": "dataframe",
              "variable_name": "data_df",
              "summary": "{\n  \"name\": \"data_df\",\n  \"rows\": 10000,\n  \"fields\": [\n    {\n      \"column\": \"Record_ID\",\n      \"properties\": {\n        \"dtype\": \"number\",\n        \"std\": 2886,\n        \"min\": 1,\n        \"max\": 10000,\n        \"num_unique_values\": 10000,\n        \"samples\": [\n          6253,\n          4685,\n          1732\n        ],\n        \"semantic_type\": \"\",\n        \"description\": \"\"\n      }\n    },\n    {\n      \"column\": \"Name\",\n      \"properties\": {\n        \"dtype\": \"string\",\n        \"num_unique_values\": 9300,\n        \"samples\": [\n          \"Emily Lee\",\n          \"Nancy Andrews\",\n          \"Carolyn Juarez\"\n        ],\n        \"semantic_type\": \"\",\n        \"description\": \"\"\n      }\n    },\n    {\n      \"column\": \"Name_Variant\",\n      \"properties\": {\n        \"dtype\": \"string\",\n        \"num_unique_values\": 9740,\n        \"samples\": [\n          \"Ricardo Williams\",\n          \"Keith Anders0n\",\n          \"Lindsay Robertson\"\n        ],\n        \"semantic_type\": \"\",\n        \"description\": \"\"\n      }\n    },\n    {\n      \"column\": \"Company_Name\",\n      \"properties\": {\n        \"dtype\": \"string\",\n        \"num_unique_values\": 8598,\n        \"samples\": [\n          \"Novak, Weber and Byrd\",\n          \"Taylor LLC\",\n          \"Gamble-Tucker\"\n        ],\n        \"semantic_type\": \"\",\n        \"description\": \"\"\n      }\n    },\n    {\n      \"column\": \"Company_Name_Variant\",\n      \"properties\": {\n        \"dtype\": \"string\",\n        \"num_unique_values\": 9159,\n        \"samples\": [\n          \"Dunn LLC\",\n          \"Hanccok, Cummings and Flynn\",\n          \"Richard PLC\"\n        ],\n        \"semantic_type\": \"\",\n        \"description\": \"\"\n      }\n    },\n    {\n      \"column\": \"Match_Label\",\n      \"properties\": {\n        \"dtype\": \"category\",\n        \"num_unique_values\": 4,\n        \"samples\": [\n          \"Spelling Mistake\",\n          \"Exact Match\",\n          \"Slight Variation\"\n        ],\n        \"semantic_type\": \"\",\n        \"description\": \"\"\n      }\n    },\n    {\n      \"column\": \"full_ratio\",\n      \"properties\": {\n        \"dtype\": \"number\",\n        \"std\": 22,\n        \"min\": 6,\n        \"max\": 100,\n        \"num_unique_values\": 83,\n        \"samples\": [\n          95,\n          86,\n          67\n        ],\n        \"semantic_type\": \"\",\n        \"description\": \"\"\n      }\n    },\n    {\n      \"column\": \"partial_ratio\",\n      \"properties\": {\n        \"dtype\": \"number\",\n        \"std\": 20,\n        \"min\": 7,\n        \"max\": 100,\n        \"num_unique_values\": 82,\n        \"samples\": [\n          95,\n          86,\n          67\n        ],\n        \"semantic_type\": \"\",\n        \"description\": \"\"\n      }\n    },\n    {\n      \"column\": \"token_sort_ratio\",\n      \"properties\": {\n        \"dtype\": \"number\",\n        \"std\": 24,\n        \"min\": 6,\n        \"max\": 100,\n        \"num_unique_values\": 90,\n        \"samples\": [\n          54,\n          57,\n          21\n        ],\n        \"semantic_type\": \"\",\n        \"description\": \"\"\n      }\n    },\n    {\n      \"column\": \"token_set_ratio\",\n      \"properties\": {\n        \"dtype\": \"number\",\n        \"std\": 23,\n        \"min\": 6,\n        \"max\": 100,\n        \"num_unique_values\": 90,\n        \"samples\": [\n          59,\n          80,\n          21\n        ],\n        \"semantic_type\": \"\",\n        \"description\": \"\"\n      }\n    },\n    {\n      \"column\": \"trigram\",\n      \"properties\": {\n        \"dtype\": \"number\",\n        \"std\": 0.33833830553990696,\n        \"min\": 0.0,\n        \"max\": 1.0,\n        \"num_unique_values\": 185,\n        \"samples\": [\n          0.286,\n          0.462,\n          0.68\n        ],\n        \"semantic_type\": \"\",\n        \"description\": \"\"\n      }\n    }\n  ]\n}"
            }
          },
          "metadata": {},
          "execution_count": 23
        }
      ],
      "source": [
        "data_df['full_ratio'] = data_df.apply(get_ratio, axis=1)\n",
        "data_df['partial_ratio'] = data_df.apply(get_partial_ratio, axis=1)\n",
        "data_df['token_sort_ratio'] = data_df.apply(get_token_sort_ratio, axis=1)\n",
        "data_df['token_set_ratio'] = data_df.apply(get_token_set_ratio, axis=1)\n",
        "data_df['trigram'] = data_df.apply(get_trigram_value, axis=1)\n",
        "data_df.head()"
      ]
    },
    {
      "cell_type": "code",
      "source": [
        "data_df.to_csv('/content/sample_data/final.csv', index=False)"
      ],
      "metadata": {
        "id": "ARcRvLtdb_5N"
      },
      "execution_count": 26,
      "outputs": []
    },
    {
      "cell_type": "markdown",
      "metadata": {
        "id": "fhf_FbEa9EaQ"
      },
      "source": [
        "####  It looks like TOKEN SET RATIO from fuzzywuzzy package is the best method to get the most similar matches in this example."
      ]
    },
    {
      "cell_type": "markdown",
      "metadata": {
        "id": "848GAtrk9EaQ"
      },
      "source": [
        "<a id = 'others'></a>"
      ]
    },
    {
      "cell_type": "markdown",
      "metadata": {
        "id": "-H3UQ6P39EaQ"
      },
      "source": [
        "![image.png](attachment:fda7874a-b7b2-484e-b187-397b35c93cd6.png)\n",
        "\n",
        "- Edit distance\n",
        "    - Longest common subsequence\n",
        "    - Hamming distance\n",
        "    - Jaro distance\n",
        "- Needleman–Wunsch algorithm\n",
        "- Smith–Waterman algorithm\n",
        "- BK Tree metric\n",
        "- Soundex or Metaphone – phonetic algorithms\n",
        "\n",
        "[Record Linkange Toolkit](https://recordlinkage.readthedocs.io/en/latest/about.html) library to link records in or between data sources and provides tools for deduplication and record linkage."
      ]
    },
    {
      "cell_type": "markdown",
      "metadata": {
        "id": "O4MZfYTu9EaQ"
      },
      "source": [
        "# REFERENCES\n",
        "1. [Levenshtein, Vladimir I. \"Binary codes capable of correcting deletions, insertions, and reversals.\" In Soviet physics doklady, vol. 10, no. 8, pp. 707-710. 1966.](https://nymity.ch/sybilhunting/pdf/Levenshtein1966a.pdf)\n",
        "2. [Damerau, Fred J. \"A technique for computer detection and correction of spelling errors.\" Communications of the ACM 7, no. 3 (1964): 171-176.](https://dl.acm.org/doi/abs/10.1145/363958.363994)\n",
        "3. [Cayrol, M., Farreny, H. and Prade, H. (1982), 'Fuzzy Pattern Matching', Kybernetes, Vol. 11 No. 2, pp. 103-116.](https://doi.org/10.1108/eb005612)\n",
        "4. [Ukkonen, Esko. \"Algorithms for approximate string matching.\" Information and control 64, no. 1-3 (1985): 100-118.](https://reader.elsevier.com/reader/sd/pii/S0019995885800462?token=6B1FB04FFCA70F0F9A2AAB96C6311FAA5E93FFB7F1C1B4A75A61D72728A2B6A655B4944421AD983395F0B11AAB73F520&originRegion=us-east-1&originCreation=20210331153641)\n",
        "5. [Geek for Geeks - applications of fuzzy string matching](https://www.geeksforgeeks.org/applications-of-string-matching-algorithms/)\n",
        "6. [Geek for Geeks - Bitap Algorithm](https://www.geeksforgeeks.org/java-program-to-implement-bitap-algorithm-for-string-matching/)\n",
        "7. [Stanford slides on n-gram](https://web.stanford.edu/~jurafsky/slp3/slides/LM_4.pdf)\n",
        "8. [Data camp tutorial - fuzzy string matching](https://www.datacamp.com/community/tutorials/fuzzy-string-python)\n",
        "9. [Levenshtein distance theory](https://www.python-course.eu/levenshtein_distance.php)\n",
        "10. [Article on record linking and fuzzy matching](https://pbpython.com/record-linking.html)\n",
        "11. [Medium post on Levenshtein distance](https://blog.paperspace.com/measuring-text-similarity-using-levenshtein-distance/)\n",
        "12. [stackoverflow for n-gram similarity](https://stackoverflow.com/questions/53827339/string-matching-using-tf-idf-ngrams-and-cosine-similarity-in-python)"
      ]
    },
    {
      "cell_type": "code",
      "execution_count": 33,
      "metadata": {
        "id": "z9XeaA709EaQ"
      },
      "outputs": [],
      "source": [
        "import matplotlib.pyplot as plt\n",
        "import seaborn as sns\n",
        "\n",
        "# Function to plot the points for the given columns grouped by match_Label\n",
        "def plot_similarity_scores(df):\n",
        "    plt.figure(figsize=(12, 6))\n",
        "\n",
        "    # Define color mapping for match labels\n",
        "    label_colors = {\n",
        "        \"Exact Match\": \"green\",\n",
        "        \"Slight Variation\": \"blue\",\n",
        "        \"Spelling Mistake\": \"orange\",\n",
        "        \"Completely Different\": \"red\"\n",
        "    }\n",
        "\n",
        "    # Melt the DataFrame for easier plotting\n",
        "    df_melted = df.melt(id_vars=[\"Match_Label\"], value_vars=[\"full_ratio\", \"partial_ratio\", \"token_sort_ratio\", \"trigram\"],\n",
        "                         var_name=\"Metric\", value_name=\"Score\")\n",
        "\n",
        "    # Plot the scatter points grouped by match_Label\n",
        "    sns.scatterplot(data=df_melted, x=\"Metric\", y=\"Score\", hue=\"Match_Label\", palette=label_colors, alpha=0.6)\n",
        "\n",
        "    plt.title(\"Similarity Scores by Match Label\")\n",
        "    plt.xlabel(\"Similarity Metrics\")\n",
        "    plt.ylabel(\"Score\")\n",
        "    plt.legend(title=\"Match Label\")\n",
        "    plt.xticks(rotation=45)\n",
        "    plt.grid(True)\n",
        "\n",
        "    plt.show()\n",
        "\n",
        "# Example call: plot_similarity_scores(df) (where df is the loaded dataset)\n"
      ]
    },
    {
      "cell_type": "code",
      "source": [],
      "metadata": {
        "id": "wyFgWmjzfHrV"
      },
      "execution_count": null,
      "outputs": []
    },
    {
      "cell_type": "code",
      "source": [],
      "metadata": {
        "id": "qHMSMyoJfHvV"
      },
      "execution_count": null,
      "outputs": []
    },
    {
      "cell_type": "code",
      "source": [
        "plot_similarity_scores(data_df)"
      ],
      "metadata": {
        "colab": {
          "base_uri": "https://localhost:8080/",
          "height": 659
        },
        "id": "wiPxMPSPdwXs",
        "outputId": "847dc5bd-51cb-46b0-e995-22b8379245f8"
      },
      "execution_count": 34,
      "outputs": [
        {
          "output_type": "display_data",
          "data": {
            "text/plain": [
              "<Figure size 1200x600 with 1 Axes>"
            ],
            "image/png": "[encoded data removed]"
          },
          "metadata": {}
        }
      ]
    },
    {
      "cell_type": "code",
      "source": [],
      "metadata": {
        "id": "Qfokpa1hfIhs"
      },
      "execution_count": null,
      "outputs": []
    },
    {
      "cell_type": "code",
      "source": [
        "import matplotlib.pyplot as plt\n",
        "import seaborn as sns\n",
        "import pandas as pd\n",
        "from mpl_toolkits.mplot3d import Axes3D\n",
        "\n",
        "# Function to plot a 3D scatter plot for the given similarity metrics grouped by Match_Label\n",
        "def plot_3d_similarity_scores(df):\n",
        "    fig = plt.figure(figsize=(10, 8))\n",
        "    ax = fig.add_subplot(111, projection='3d')\n",
        "\n",
        "    # Define color mapping for match labels\n",
        "    label_colors = {\n",
        "        \"Exact Match\": \"green\",\n",
        "        \"Slight Variation\": \"blue\",\n",
        "        \"Spelling Mistake\": \"orange\",\n",
        "        \"Completely Different\": \"red\"\n",
        "    }\n",
        "\n",
        "    # Convert Match_Label to colors\n",
        "    df[\"Color\"] = df[\"Match_Label\"].map(label_colors)\n",
        "\n",
        "    # Scatter plot in 3D\n",
        "    scatter = ax.scatter(\n",
        "        df[\"full_ratio\"], df[\"partial_ratio\"], df[\"token_sort_ratio\"],\n",
        "        c=df[\"Color\"], alpha=0.7\n",
        "    )\n",
        "\n",
        "    # Labels and title\n",
        "    ax.set_xlabel(\"Full Ratio\")\n",
        "    ax.set_ylabel(\"Partial Ratio\")\n",
        "    ax.set_zlabel(\"Token Sort Ratio\")\n",
        "    ax.set_title(\"3D Similarity Score Distribution by Match Label\")\n",
        "\n",
        "    # Custom legend\n",
        "    legend_labels = [plt.Line2D([0], [0], marker='o', color='w', label=label, markersize=10, markerfacecolor=color)\n",
        "                     for label, color in label_colors.items()]\n",
        "    ax.legend(handles=legend_labels, title=\"Match Label\")\n",
        "\n",
        "    plt.show()\n",
        "\n",
        "# Example call: plot_3d_similarity_scores(df) (where df is the loaded dataset)\n"
      ],
      "metadata": {
        "id": "-VUbaYD2fIlU"
      },
      "execution_count": 35,
      "outputs": []
    },
    {
      "cell_type": "code",
      "source": [
        "plot_3d_similarity_scores(data_df)"
      ],
      "metadata": {
        "colab": {
          "base_uri": "https://localhost:8080/",
          "height": 675
        },
        "id": "XY3AZ9B9fIom",
        "outputId": "08fbc75b-abe4-41e0-e26e-b8a0b0259203"
      },
      "execution_count": 36,
      "outputs": [
        {
          "output_type": "display_data",
          "data": {
            "text/plain": [
              "<Figure size 1000x800 with 1 Axes>"
            ],
            "image/png": "[encoded data removed]"
          },
          "metadata": {}
        }
      ]
    },
    {
      "cell_type": "code",
      "source": [],
      "metadata": {
        "id": "kAFwe2q8fIrk"
      },
      "execution_count": null,
      "outputs": []
    },
    {
      "cell_type": "code",
      "source": [],
      "metadata": {
        "id": "bQU318MdfIub"
      },
      "execution_count": null,
      "outputs": []
    }
  ],
  "metadata": {
    "kernelspec": {
      "display_name": "Python 3",
      "language": "python",
      "name": "python3"
    },
    "language_info": {
      "codemirror_mode": {
        "name": "ipython",
        "version": 3
      },
      "file_extension": ".py",
      "mimetype": "text/x-python",
      "name": "python",
      "nbconvert_exporter": "python",
      "pygments_lexer": "ipython3",
      "version": "3.8.5"
    },
    "colab": {
      "provenance": []
    }
  },
  "nbformat": 4,
  "nbformat_minor": 0
}